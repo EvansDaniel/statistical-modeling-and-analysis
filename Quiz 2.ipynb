{
 "cells": [
  {
   "cell_type": "code",
   "execution_count": 10,
   "metadata": {},
   "outputs": [
    {
     "data": {
      "text/html": [
       "60"
      ],
      "text/latex": [
       "60"
      ],
      "text/markdown": [
       "60"
      ],
      "text/plain": [
       "[1] 60"
      ]
     },
     "metadata": {},
     "output_type": "display_data"
    }
   ],
   "source": [
    "library(Stat2Data)\n",
    "library(lattice)\n",
    "data(PorscheJaguar)\n",
    "(PorscheJaguar)"
   ]
  },
  {
   "cell_type": "code",
   "execution_count": 8,
   "metadata": {},
   "outputs": [
    {
     "data": {
      "text/plain": [
       "\n",
       "Call:\n",
       "lm(formula = PorscheJaguar$Price ~ PorscheJaguar$Mileage * PorscheJaguar$Porsche)\n",
       "\n",
       "Residuals:\n",
       "     Min       1Q   Median       3Q      Max \n",
       "-24.3271  -5.6200  -0.4819   5.0278  18.8120 \n",
       "\n",
       "Coefficients:\n",
       "                                            Estimate Std. Error t value\n",
       "(Intercept)                                 54.22746    3.41097  15.898\n",
       "PorscheJaguar$Mileage                       -0.62030    0.08254  -7.515\n",
       "PorscheJaguar$Porsche                       16.86299    4.58044   3.682\n",
       "PorscheJaguar$Mileage:PorscheJaguar$Porsche  0.03090    0.11024   0.280\n",
       "                                            Pr(>|t|)    \n",
       "(Intercept)                                  < 2e-16 ***\n",
       "PorscheJaguar$Mileage                       4.88e-10 ***\n",
       "PorscheJaguar$Porsche                       0.000523 ***\n",
       "PorscheJaguar$Mileage:PorscheJaguar$Porsche 0.780302    \n",
       "---\n",
       "Signif. codes:  0 ‘***’ 0.001 ‘**’ 0.01 ‘*’ 0.05 ‘.’ 0.1 ‘ ’ 1\n",
       "\n",
       "Residual standard error: 9.25 on 56 degrees of freedom\n",
       "Multiple R-squared:  0.7648,\tAdjusted R-squared:  0.7522 \n",
       "F-statistic: 60.68 on 3 and 56 DF,  p-value: < 2.2e-16\n"
      ]
     },
     "metadata": {},
     "output_type": "display_data"
    }
   ],
   "source": [
    "plm = lm(PorscheJaguar$Price ~ PorscheJaguar$Mileage*PorscheJaguar$Porsche)\n",
    "summary(plm)"
   ]
  },
  {
   "cell_type": "code",
   "execution_count": 11,
   "metadata": {},
   "outputs": [
    {
     "data": {
      "text/plain": [
       "\n",
       "Call:\n",
       "lm(formula = PorscheJaguar$Price ~ PorscheJaguar$Mileage + PorscheJaguar$Porsche)\n",
       "\n",
       "Residuals:\n",
       "     Min       1Q   Median       3Q      Max \n",
       "-23.8420  -5.6835  -0.5041   5.4209  19.3490 \n",
       "\n",
       "Coefficients:\n",
       "                      Estimate Std. Error t value Pr(>|t|)    \n",
       "(Intercept)           53.60555    2.56951  20.862  < 2e-16 ***\n",
       "PorscheJaguar$Mileage -0.60298    0.05427 -11.111 6.89e-16 ***\n",
       "PorscheJaguar$Porsche 17.95833    2.36951   7.579 3.45e-10 ***\n",
       "---\n",
       "Signif. codes:  0 ‘***’ 0.001 ‘**’ 0.01 ‘*’ 0.05 ‘.’ 0.1 ‘ ’ 1\n",
       "\n",
       "Residual standard error: 9.174 on 57 degrees of freedom\n",
       "Multiple R-squared:  0.7644,\tAdjusted R-squared:  0.7562 \n",
       "F-statistic: 92.48 on 2 and 57 DF,  p-value: < 2.2e-16\n"
      ]
     },
     "metadata": {},
     "output_type": "display_data"
    }
   ],
   "source": [
    "plm = lm(PorscheJaguar$Price ~ PorscheJaguar$Mileage + PorscheJaguar$Porsche)\n",
    "summary(plm)"
   ]
  }
 ],
 "metadata": {
  "kernelspec": {
   "display_name": "R",
   "language": "R",
   "name": "ir"
  },
  "language_info": {
   "codemirror_mode": "r",
   "file_extension": ".r",
   "mimetype": "text/x-r-source",
   "name": "R",
   "pygments_lexer": "r",
   "version": "3.4.3"
  }
 },
 "nbformat": 4,
 "nbformat_minor": 2
}
