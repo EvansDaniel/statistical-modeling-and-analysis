{
 "cells": [
  {
   "cell_type": "code",
   "execution_count": 2,
   "metadata": {},
   "outputs": [
    {
     "data": {
      "text/html": [
       "<table>\n",
       "<thead><tr><th scope=col>Team</th><th scope=col>League</th><th scope=col>Wins</th><th scope=col>Losses</th><th scope=col>WinPct</th><th scope=col>BattingAvg</th><th scope=col>Runs</th><th scope=col>Hits</th><th scope=col>HR</th><th scope=col>Doubles</th><th scope=col>⋯</th><th scope=col>RBI</th><th scope=col>SB</th><th scope=col>OBP</th><th scope=col>SLG</th><th scope=col>ERA</th><th scope=col>HitsAllowed</th><th scope=col>Walks</th><th scope=col>StrikeOuts</th><th scope=col>Saves</th><th scope=col>WHIP</th></tr></thead>\n",
       "<tbody>\n",
       "\t<tr><td>Arizona Diamondbacks</td><td>NL                  </td><td>90                  </td><td>72                  </td><td>0.556               </td><td>0.250               </td><td>712                 </td><td>1350                </td><td>171                 </td><td>286                 </td><td>⋯                   </td><td>687                 </td><td>109                 </td><td>0.321               </td><td>0.413               </td><td>4.13                </td><td>1446                </td><td>546                 </td><td>1088                </td><td>51                  </td><td>1.38                </td></tr>\n",
       "\t<tr><td>Atlanta Braves      </td><td>NL                  </td><td>84                  </td><td>78                  </td><td>0.519               </td><td>0.275               </td><td>810                 </td><td>1562                </td><td>176                 </td><td>328                 </td><td>⋯                   </td><td>781                 </td><td> 64                 </td><td>0.339               </td><td>0.435               </td><td>4.11                </td><td>1442                </td><td>537                 </td><td>1106                </td><td>36                  </td><td>1.36                </td></tr>\n",
       "\t<tr><td>Baltimore Orioles   </td><td>AL                  </td><td>69                  </td><td>93                  </td><td>0.426               </td><td>0.272               </td><td>756                 </td><td>1529                </td><td>142                 </td><td>306                 </td><td>⋯                   </td><td>718                 </td><td>144                 </td><td>0.333               </td><td>0.412               </td><td>5.17                </td><td>1491                </td><td>696                 </td><td>1087                </td><td>30                  </td><td>1.52                </td></tr>\n",
       "\t<tr><td>Boston Red Sox      </td><td>AL                  </td><td>96                  </td><td>66                  </td><td>0.593               </td><td>0.279               </td><td>867                 </td><td>1561                </td><td>166                 </td><td>352                 </td><td>⋯                   </td><td>829                 </td><td> 96                 </td><td>0.362               </td><td>0.444               </td><td>3.87                </td><td>1350                </td><td>482                 </td><td>1149                </td><td>45                  </td><td>1.27                </td></tr>\n",
       "\t<tr><td>Chicago Cubs        </td><td>NL                  </td><td>85                  </td><td>77                  </td><td>0.525               </td><td>0.271               </td><td>752                 </td><td>1530                </td><td>151                 </td><td>340                 </td><td>⋯                   </td><td>711                 </td><td> 86                 </td><td>0.333               </td><td>0.422               </td><td>4.04                </td><td>1340                </td><td>573                 </td><td>1211                </td><td>39                  </td><td>1.32                </td></tr>\n",
       "\t<tr><td>Chicago White Sox   </td><td>AL                  </td><td>72                  </td><td>90                  </td><td>0.444               </td><td>0.246               </td><td>693                 </td><td>1341                </td><td>190                 </td><td>249                 </td><td>⋯                   </td><td>667                 </td><td> 78                 </td><td>0.318               </td><td>0.404               </td><td>4.77                </td><td>1556                </td><td>499                 </td><td>1015                </td><td>42                  </td><td>1.43                </td></tr>\n",
       "</tbody>\n",
       "</table>\n"
      ],
      "text/latex": [
       "\\begin{tabular}{r|lllllllllllllllllllll}\n",
       " Team & League & Wins & Losses & WinPct & BattingAvg & Runs & Hits & HR & Doubles & ⋯ & RBI & SB & OBP & SLG & ERA & HitsAllowed & Walks & StrikeOuts & Saves & WHIP\\\\\n",
       "\\hline\n",
       "\t Arizona Diamondbacks & NL                   & 90                   & 72                   & 0.556                & 0.250                & 712                  & 1350                 & 171                  & 286                  & ⋯                    & 687                  & 109                  & 0.321                & 0.413                & 4.13                 & 1446                 & 546                  & 1088                 & 51                   & 1.38                \\\\\n",
       "\t Atlanta Braves       & NL                   & 84                   & 78                   & 0.519                & 0.275                & 810                  & 1562                 & 176                  & 328                  & ⋯                    & 781                  &  64                  & 0.339                & 0.435                & 4.11                 & 1442                 & 537                  & 1106                 & 36                   & 1.36                \\\\\n",
       "\t Baltimore Orioles    & AL                   & 69                   & 93                   & 0.426                & 0.272                & 756                  & 1529                 & 142                  & 306                  & ⋯                    & 718                  & 144                  & 0.333                & 0.412                & 5.17                 & 1491                 & 696                  & 1087                 & 30                   & 1.52                \\\\\n",
       "\t Boston Red Sox       & AL                   & 96                   & 66                   & 0.593                & 0.279                & 867                  & 1561                 & 166                  & 352                  & ⋯                    & 829                  &  96                  & 0.362                & 0.444                & 3.87                 & 1350                 & 482                  & 1149                 & 45                   & 1.27                \\\\\n",
       "\t Chicago Cubs         & NL                   & 85                   & 77                   & 0.525                & 0.271                & 752                  & 1530                 & 151                  & 340                  & ⋯                    & 711                  &  86                  & 0.333                & 0.422                & 4.04                 & 1340                 & 573                  & 1211                 & 39                   & 1.32                \\\\\n",
       "\t Chicago White Sox    & AL                   & 72                   & 90                   & 0.444                & 0.246                & 693                  & 1341                 & 190                  & 249                  & ⋯                    & 667                  &  78                  & 0.318                & 0.404                & 4.77                 & 1556                 & 499                  & 1015                 & 42                   & 1.43                \\\\\n",
       "\\end{tabular}\n"
      ],
      "text/markdown": [
       "\n",
       "Team | League | Wins | Losses | WinPct | BattingAvg | Runs | Hits | HR | Doubles | ⋯ | RBI | SB | OBP | SLG | ERA | HitsAllowed | Walks | StrikeOuts | Saves | WHIP | \n",
       "|---|---|---|---|---|---|\n",
       "| Arizona Diamondbacks | NL                   | 90                   | 72                   | 0.556                | 0.250                | 712                  | 1350                 | 171                  | 286                  | ⋯                    | 687                  | 109                  | 0.321                | 0.413                | 4.13                 | 1446                 | 546                  | 1088                 | 51                   | 1.38                 | \n",
       "| Atlanta Braves       | NL                   | 84                   | 78                   | 0.519                | 0.275                | 810                  | 1562                 | 176                  | 328                  | ⋯                    | 781                  |  64                  | 0.339                | 0.435                | 4.11                 | 1442                 | 537                  | 1106                 | 36                   | 1.36                 | \n",
       "| Baltimore Orioles    | AL                   | 69                   | 93                   | 0.426                | 0.272                | 756                  | 1529                 | 142                  | 306                  | ⋯                    | 718                  | 144                  | 0.333                | 0.412                | 5.17                 | 1491                 | 696                  | 1087                 | 30                   | 1.52                 | \n",
       "| Boston Red Sox       | AL                   | 96                   | 66                   | 0.593                | 0.279                | 867                  | 1561                 | 166                  | 352                  | ⋯                    | 829                  |  96                  | 0.362                | 0.444                | 3.87                 | 1350                 | 482                  | 1149                 | 45                   | 1.27                 | \n",
       "| Chicago Cubs         | NL                   | 85                   | 77                   | 0.525                | 0.271                | 752                  | 1530                 | 151                  | 340                  | ⋯                    | 711                  |  86                  | 0.333                | 0.422                | 4.04                 | 1340                 | 573                  | 1211                 | 39                   | 1.32                 | \n",
       "| Chicago White Sox    | AL                   | 72                   | 90                   | 0.444                | 0.246                | 693                  | 1341                 | 190                  | 249                  | ⋯                    | 667                  |  78                  | 0.318                | 0.404                | 4.77                 | 1556                 | 499                  | 1015                 | 42                   | 1.43                 | \n",
       "\n",
       "\n"
      ],
      "text/plain": [
       "  Team                 League Wins Losses WinPct BattingAvg Runs Hits HR \n",
       "1 Arizona Diamondbacks NL     90   72     0.556  0.250      712  1350 171\n",
       "2 Atlanta Braves       NL     84   78     0.519  0.275      810  1562 176\n",
       "3 Baltimore Orioles    AL     69   93     0.426  0.272      756  1529 142\n",
       "4 Boston Red Sox       AL     96   66     0.593  0.279      867  1561 166\n",
       "5 Chicago Cubs         NL     85   77     0.525  0.271      752  1530 151\n",
       "6 Chicago White Sox    AL     72   90     0.444  0.246      693  1341 190\n",
       "  Doubles ⋯ RBI SB  OBP   SLG   ERA  HitsAllowed Walks StrikeOuts Saves WHIP\n",
       "1 286     ⋯ 687 109 0.321 0.413 4.13 1446        546   1088       51    1.38\n",
       "2 328     ⋯ 781  64 0.339 0.435 4.11 1442        537   1106       36    1.36\n",
       "3 306     ⋯ 718 144 0.333 0.412 5.17 1491        696   1087       30    1.52\n",
       "4 352     ⋯ 829  96 0.362 0.444 3.87 1350        482   1149       45    1.27\n",
       "5 340     ⋯ 711  86 0.333 0.422 4.04 1340        573   1211       39    1.32\n",
       "6 249     ⋯ 667  78 0.318 0.404 4.77 1556        499   1015       42    1.43"
      ]
     },
     "metadata": {},
     "output_type": "display_data"
    }
   ],
   "source": [
    "library(Stat2Data)\n",
    "library(mosaic)\n",
    "library(lattice)\n",
    "\n",
    "data(MLB2007Standings)\n",
    "mlb = MLB2007Standings\n",
    "head(mlb)"
   ]
  },
  {
   "cell_type": "code",
   "execution_count": 3,
   "metadata": {},
   "outputs": [
    {
     "data": {
      "text/plain": [
       "\n",
       "Call:\n",
       "lm(formula = mlb$WinPct ~ mlb$Runs + mlb$ERA)\n",
       "\n",
       "Residuals:\n",
       "      Min        1Q    Median        3Q       Max \n",
       "-0.038586 -0.015104 -0.003181  0.013915  0.059104 \n",
       "\n",
       "Coefficients:\n",
       "              Estimate Std. Error t value Pr(>|t|)    \n",
       "(Intercept)  5.103e-01  7.582e-02   6.730 3.16e-07 ***\n",
       "mlb$Runs     5.113e-04  7.003e-05   7.301 7.47e-08 ***\n",
       "mlb$ERA     -9.138e-02  1.181e-02  -7.741 2.52e-08 ***\n",
       "---\n",
       "Signif. codes:  0 ‘***’ 0.001 ‘**’ 0.01 ‘*’ 0.05 ‘.’ 0.1 ‘ ’ 1\n",
       "\n",
       "Residual standard error: 0.02604 on 27 degrees of freedom\n",
       "Multiple R-squared:  0.8071,\tAdjusted R-squared:  0.7928 \n",
       "F-statistic: 56.48 on 2 and 27 DF,  p-value: 2.252e-10\n"
      ]
     },
     "metadata": {},
     "output_type": "display_data"
    }
   ],
   "source": [
    "runsEraLm = lm(mlb$WinPct ~ mlb$Runs + mlb$ERA)\n",
    "summary(runsEraLm)"
   ]
  },
  {
   "cell_type": "markdown",
   "metadata": {},
   "source": [
    "### Regression Equation: $\\hat{WinPct} = .5103 + 5.113\\mathrm{e}{-4}*\\text{Runs} - 9.138\\mathrm{e}{-2}*\\text{ERA}$"
   ]
  },
  {
   "cell_type": "code",
   "execution_count": 4,
   "metadata": {},
   "outputs": [
    {
     "data": {
      "text/html": [
       "<table>\n",
       "<thead><tr><th></th><th scope=col>Df</th><th scope=col>Sum Sq</th><th scope=col>Mean Sq</th><th scope=col>F value</th><th scope=col>Pr(&gt;F)</th></tr></thead>\n",
       "<tbody>\n",
       "\t<tr><th scope=row>mlb$Runs</th><td> 1          </td><td>0.03596578  </td><td>0.0359657753</td><td>53.03620    </td><td>7.821719e-08</td></tr>\n",
       "\t<tr><th scope=row>mlb$ERA</th><td> 1          </td><td>0.04063441  </td><td>0.0406344097</td><td>59.92071    </td><td>2.521954e-08</td></tr>\n",
       "\t<tr><th scope=row>Residuals</th><td>27          </td><td>0.01830968  </td><td>0.0006781364</td><td>      NA    </td><td>          NA</td></tr>\n",
       "</tbody>\n",
       "</table>\n"
      ],
      "text/latex": [
       "\\begin{tabular}{r|lllll}\n",
       "  & Df & Sum Sq & Mean Sq & F value & Pr(>F)\\\\\n",
       "\\hline\n",
       "\tmlb\\$Runs &  1           & 0.03596578   & 0.0359657753 & 53.03620     & 7.821719e-08\\\\\n",
       "\tmlb\\$ERA &  1           & 0.04063441   & 0.0406344097 & 59.92071     & 2.521954e-08\\\\\n",
       "\tResiduals & 27           & 0.01830968   & 0.0006781364 &       NA     &           NA\\\\\n",
       "\\end{tabular}\n"
      ],
      "text/markdown": [
       "\n",
       "| <!--/--> | Df | Sum Sq | Mean Sq | F value | Pr(>F) | \n",
       "|---|---|---|\n",
       "| mlb$Runs |  1           | 0.03596578   | 0.0359657753 | 53.03620     | 7.821719e-08 | \n",
       "| mlb$ERA |  1           | 0.04063441   | 0.0406344097 | 59.92071     | 2.521954e-08 | \n",
       "| Residuals | 27           | 0.01830968   | 0.0006781364 |       NA     |           NA | \n",
       "\n",
       "\n"
      ],
      "text/plain": [
       "          Df Sum Sq     Mean Sq      F value  Pr(>F)      \n",
       "mlb$Runs   1 0.03596578 0.0359657753 53.03620 7.821719e-08\n",
       "mlb$ERA    1 0.04063441 0.0406344097 59.92071 2.521954e-08\n",
       "Residuals 27 0.01830968 0.0006781364       NA           NA"
      ]
     },
     "metadata": {},
     "output_type": "display_data"
    }
   ],
   "source": [
    "anova(runsEraLm)"
   ]
  },
  {
   "cell_type": "code",
   "execution_count": 6,
   "metadata": {},
   "outputs": [
    {
     "data": {
      "text/html": [
       "0.000678136296296296"
      ],
      "text/latex": [
       "0.000678136296296296"
      ],
      "text/markdown": [
       "0.000678136296296296"
      ],
      "text/plain": [
       "[1] 0.0006781363"
      ]
     },
     "metadata": {},
     "output_type": "display_data"
    }
   ],
   "source": [
    "0.01830968 / 27 # Mean sq = sse / dof -> 1 per parameter estimated, n-1 for the error terms"
   ]
  },
  {
   "cell_type": "code",
   "execution_count": 8,
   "metadata": {},
   "outputs": [
    {
     "name": "stderr",
     "output_type": "stream",
     "text": [
      "Warning message:\n",
      "“'newdata' had 1 row but variables found have 30 rows”"
     ]
    },
    {
     "data": {
      "text/html": [
       "<table>\n",
       "<thead><tr><th></th><th scope=col>fit</th><th scope=col>lwr</th><th scope=col>upr</th></tr></thead>\n",
       "<tbody>\n",
       "\t<tr><th scope=row>1</th><td>0.4968959</td><td>0.4411913</td><td>0.5526004</td></tr>\n",
       "\t<tr><th scope=row>2</th><td>0.5488284</td><td>0.4936448</td><td>0.6040120</td></tr>\n",
       "\t<tr><th scope=row>3</th><td>0.4243542</td><td>0.3673158</td><td>0.4813926</td></tr>\n",
       "\t<tr><th scope=row>4</th><td>0.5999029</td><td>0.5422588</td><td>0.6575469</td></tr>\n",
       "\t<tr><th scope=row>5</th><td>0.5255713</td><td>0.4701810</td><td>0.5809615</td></tr>\n",
       "\t<tr><th scope=row>6</th><td>0.4286969</td><td>0.3725450</td><td>0.4848488</td></tr>\n",
       "\t<tr><th scope=row>7</th><td>0.4591766</td><td>0.4036391</td><td>0.5147141</td></tr>\n",
       "\t<tr><th scope=row>8</th><td>0.5548226</td><td>0.4993828</td><td>0.6102625</td></tr>\n",
       "\t<tr><th scope=row>9</th><td>0.5552018</td><td>0.4994962</td><td>0.6109075</td></tr>\n",
       "\t<tr><th scope=row>10</th><td>0.5461606</td><td>0.4895507</td><td>0.6027706</td></tr>\n",
       "\t<tr><th scope=row>11</th><td>0.4627555</td><td>0.4071949</td><td>0.5183162</td></tr>\n",
       "\t<tr><th scope=row>12</th><td>0.4522595</td><td>0.3971312</td><td>0.5073879</td></tr>\n",
       "\t<tr><th scope=row>13</th><td>0.4618444</td><td>0.4065672</td><td>0.5171216</td></tr>\n",
       "\t<tr><th scope=row>14</th><td>0.5439978</td><td>0.4890149</td><td>0.5989808</td></tr>\n",
       "\t<tr><th scope=row>15</th><td>0.5022584</td><td>0.4472354</td><td>0.5572815</td></tr>\n",
       "\t<tr><th scope=row>16</th><td>0.5168122</td><td>0.4623763</td><td>0.5712482</td></tr>\n",
       "\t<tr><th scope=row>17</th><td>0.4981359</td><td>0.4426380</td><td>0.5536338</td></tr>\n",
       "\t<tr><th scope=row>18</th><td>0.5320534</td><td>0.4773824</td><td>0.5867244</td></tr>\n",
       "\t<tr><th scope=row>19</th><td>0.5948845</td><td>0.5340529</td><td>0.6557161</td></tr>\n",
       "\t<tr><th scope=row>20</th><td>0.4980155</td><td>0.4432711</td><td>0.5527598</td></tr>\n",
       "\t<tr><th scope=row>21</th><td>0.5340958</td><td>0.4769759</td><td>0.5912157</td></tr>\n",
       "\t<tr><th scope=row>22</th><td>0.4299252</td><td>0.3739114</td><td>0.4859391</td></tr>\n",
       "\t<tr><th scope=row>23</th><td>0.5510173</td><td>0.4934127</td><td>0.6086219</td></tr>\n",
       "\t<tr><th scope=row>24</th><td>0.4765860</td><td>0.4202185</td><td>0.5329535</td></tr>\n",
       "\t<tr><th scope=row>25</th><td>0.4839909</td><td>0.4292399</td><td>0.5387419</td></tr>\n",
       "\t<tr><th scope=row>26</th><td>0.4560236</td><td>0.4010003</td><td>0.5110469</td></tr>\n",
       "\t<tr><th scope=row>27</th><td>0.4047497</td><td>0.3445926</td><td>0.4649067</td></tr>\n",
       "\t<tr><th scope=row>28</th><td>0.4934113</td><td>0.4383737</td><td>0.5484489</td></tr>\n",
       "\t<tr><th scope=row>29</th><td>0.5297378</td><td>0.4741697</td><td>0.5853060</td></tr>\n",
       "\t<tr><th scope=row>30</th><td>0.4358341</td><td>0.3794122</td><td>0.4922559</td></tr>\n",
       "</tbody>\n",
       "</table>\n"
      ],
      "text/latex": [
       "\\begin{tabular}{r|lll}\n",
       "  & fit & lwr & upr\\\\\n",
       "\\hline\n",
       "\t1 & 0.4968959 & 0.4411913 & 0.5526004\\\\\n",
       "\t2 & 0.5488284 & 0.4936448 & 0.6040120\\\\\n",
       "\t3 & 0.4243542 & 0.3673158 & 0.4813926\\\\\n",
       "\t4 & 0.5999029 & 0.5422588 & 0.6575469\\\\\n",
       "\t5 & 0.5255713 & 0.4701810 & 0.5809615\\\\\n",
       "\t6 & 0.4286969 & 0.3725450 & 0.4848488\\\\\n",
       "\t7 & 0.4591766 & 0.4036391 & 0.5147141\\\\\n",
       "\t8 & 0.5548226 & 0.4993828 & 0.6102625\\\\\n",
       "\t9 & 0.5552018 & 0.4994962 & 0.6109075\\\\\n",
       "\t10 & 0.5461606 & 0.4895507 & 0.6027706\\\\\n",
       "\t11 & 0.4627555 & 0.4071949 & 0.5183162\\\\\n",
       "\t12 & 0.4522595 & 0.3971312 & 0.5073879\\\\\n",
       "\t13 & 0.4618444 & 0.4065672 & 0.5171216\\\\\n",
       "\t14 & 0.5439978 & 0.4890149 & 0.5989808\\\\\n",
       "\t15 & 0.5022584 & 0.4472354 & 0.5572815\\\\\n",
       "\t16 & 0.5168122 & 0.4623763 & 0.5712482\\\\\n",
       "\t17 & 0.4981359 & 0.4426380 & 0.5536338\\\\\n",
       "\t18 & 0.5320534 & 0.4773824 & 0.5867244\\\\\n",
       "\t19 & 0.5948845 & 0.5340529 & 0.6557161\\\\\n",
       "\t20 & 0.4980155 & 0.4432711 & 0.5527598\\\\\n",
       "\t21 & 0.5340958 & 0.4769759 & 0.5912157\\\\\n",
       "\t22 & 0.4299252 & 0.3739114 & 0.4859391\\\\\n",
       "\t23 & 0.5510173 & 0.4934127 & 0.6086219\\\\\n",
       "\t24 & 0.4765860 & 0.4202185 & 0.5329535\\\\\n",
       "\t25 & 0.4839909 & 0.4292399 & 0.5387419\\\\\n",
       "\t26 & 0.4560236 & 0.4010003 & 0.5110469\\\\\n",
       "\t27 & 0.4047497 & 0.3445926 & 0.4649067\\\\\n",
       "\t28 & 0.4934113 & 0.4383737 & 0.5484489\\\\\n",
       "\t29 & 0.5297378 & 0.4741697 & 0.5853060\\\\\n",
       "\t30 & 0.4358341 & 0.3794122 & 0.4922559\\\\\n",
       "\\end{tabular}\n"
      ],
      "text/markdown": [
       "\n",
       "| <!--/--> | fit | lwr | upr | \n",
       "|---|---|---|---|---|---|---|---|---|---|---|---|---|---|---|---|---|---|---|---|---|---|---|---|---|---|---|---|---|---|\n",
       "| 1 | 0.4968959 | 0.4411913 | 0.5526004 | \n",
       "| 2 | 0.5488284 | 0.4936448 | 0.6040120 | \n",
       "| 3 | 0.4243542 | 0.3673158 | 0.4813926 | \n",
       "| 4 | 0.5999029 | 0.5422588 | 0.6575469 | \n",
       "| 5 | 0.5255713 | 0.4701810 | 0.5809615 | \n",
       "| 6 | 0.4286969 | 0.3725450 | 0.4848488 | \n",
       "| 7 | 0.4591766 | 0.4036391 | 0.5147141 | \n",
       "| 8 | 0.5548226 | 0.4993828 | 0.6102625 | \n",
       "| 9 | 0.5552018 | 0.4994962 | 0.6109075 | \n",
       "| 10 | 0.5461606 | 0.4895507 | 0.6027706 | \n",
       "| 11 | 0.4627555 | 0.4071949 | 0.5183162 | \n",
       "| 12 | 0.4522595 | 0.3971312 | 0.5073879 | \n",
       "| 13 | 0.4618444 | 0.4065672 | 0.5171216 | \n",
       "| 14 | 0.5439978 | 0.4890149 | 0.5989808 | \n",
       "| 15 | 0.5022584 | 0.4472354 | 0.5572815 | \n",
       "| 16 | 0.5168122 | 0.4623763 | 0.5712482 | \n",
       "| 17 | 0.4981359 | 0.4426380 | 0.5536338 | \n",
       "| 18 | 0.5320534 | 0.4773824 | 0.5867244 | \n",
       "| 19 | 0.5948845 | 0.5340529 | 0.6557161 | \n",
       "| 20 | 0.4980155 | 0.4432711 | 0.5527598 | \n",
       "| 21 | 0.5340958 | 0.4769759 | 0.5912157 | \n",
       "| 22 | 0.4299252 | 0.3739114 | 0.4859391 | \n",
       "| 23 | 0.5510173 | 0.4934127 | 0.6086219 | \n",
       "| 24 | 0.4765860 | 0.4202185 | 0.5329535 | \n",
       "| 25 | 0.4839909 | 0.4292399 | 0.5387419 | \n",
       "| 26 | 0.4560236 | 0.4010003 | 0.5110469 | \n",
       "| 27 | 0.4047497 | 0.3445926 | 0.4649067 | \n",
       "| 28 | 0.4934113 | 0.4383737 | 0.5484489 | \n",
       "| 29 | 0.5297378 | 0.4741697 | 0.5853060 | \n",
       "| 30 | 0.4358341 | 0.3794122 | 0.4922559 | \n",
       "\n",
       "\n"
      ],
      "text/plain": [
       "   fit       lwr       upr      \n",
       "1  0.4968959 0.4411913 0.5526004\n",
       "2  0.5488284 0.4936448 0.6040120\n",
       "3  0.4243542 0.3673158 0.4813926\n",
       "4  0.5999029 0.5422588 0.6575469\n",
       "5  0.5255713 0.4701810 0.5809615\n",
       "6  0.4286969 0.3725450 0.4848488\n",
       "7  0.4591766 0.4036391 0.5147141\n",
       "8  0.5548226 0.4993828 0.6102625\n",
       "9  0.5552018 0.4994962 0.6109075\n",
       "10 0.5461606 0.4895507 0.6027706\n",
       "11 0.4627555 0.4071949 0.5183162\n",
       "12 0.4522595 0.3971312 0.5073879\n",
       "13 0.4618444 0.4065672 0.5171216\n",
       "14 0.5439978 0.4890149 0.5989808\n",
       "15 0.5022584 0.4472354 0.5572815\n",
       "16 0.5168122 0.4623763 0.5712482\n",
       "17 0.4981359 0.4426380 0.5536338\n",
       "18 0.5320534 0.4773824 0.5867244\n",
       "19 0.5948845 0.5340529 0.6557161\n",
       "20 0.4980155 0.4432711 0.5527598\n",
       "21 0.5340958 0.4769759 0.5912157\n",
       "22 0.4299252 0.3739114 0.4859391\n",
       "23 0.5510173 0.4934127 0.6086219\n",
       "24 0.4765860 0.4202185 0.5329535\n",
       "25 0.4839909 0.4292399 0.5387419\n",
       "26 0.4560236 0.4010003 0.5110469\n",
       "27 0.4047497 0.3445926 0.4649067\n",
       "28 0.4934113 0.4383737 0.5484489\n",
       "29 0.5297378 0.4741697 0.5853060\n",
       "30 0.4358341 0.3794122 0.4922559"
      ]
     },
     "metadata": {},
     "output_type": "display_data"
    }
   ],
   "source": [
    "# Computing a prediction interval for the Texas Rangers\n",
    "# Need to figure out how this happened :(\n",
    "TexasRangersData = data.frame(Runs=816, ERA=4.75)\n",
    "predict(runsEraLm, TexasRangersData, interval=\"predict\") "
   ]
  },
  {
   "cell_type": "code",
   "execution_count": 11,
   "metadata": {},
   "outputs": [
    {
     "data": {
      "text/html": [
       "<table>\n",
       "<thead><tr><th></th><th scope=col>fit</th><th scope=col>lwr</th><th scope=col>upr</th></tr></thead>\n",
       "<tbody>\n",
       "\t<tr><th scope=row>1</th><td>4.17622 </td><td>3.196089</td><td>5.156351</td></tr>\n",
       "</tbody>\n",
       "</table>\n"
      ],
      "text/latex": [
       "\\begin{tabular}{r|lll}\n",
       "  & fit & lwr & upr\\\\\n",
       "\\hline\n",
       "\t1 & 4.17622  & 3.196089 & 5.156351\\\\\n",
       "\\end{tabular}\n"
      ],
      "text/markdown": [
       "\n",
       "| <!--/--> | fit | lwr | upr | \n",
       "|---|\n",
       "| 1 | 4.17622  | 3.196089 | 5.156351 | \n",
       "\n",
       "\n"
      ],
      "text/plain": [
       "  fit     lwr      upr     \n",
       "1 4.17622 3.196089 5.156351"
      ]
     },
     "metadata": {},
     "output_type": "display_data"
    }
   ],
   "source": [
    "data(faithful)\n",
    "attach(faithful)\n",
    "eruption.lm = lm(eruptions ~ waiting)\n",
    "newdata = data.frame(waiting=80)\n",
    "predict(eruption.lm, newdata, interval=\"predict\")"
   ]
  },
  {
   "cell_type": "code",
   "execution_count": null,
   "metadata": {},
   "outputs": [],
   "source": []
  }
 ],
 "metadata": {
  "kernelspec": {
   "display_name": "R",
   "language": "R",
   "name": "ir"
  },
  "language_info": {
   "codemirror_mode": "r",
   "file_extension": ".r",
   "mimetype": "text/x-r-source",
   "name": "R",
   "pygments_lexer": "r",
   "version": "3.4.3"
  }
 },
 "nbformat": 4,
 "nbformat_minor": 2
}
