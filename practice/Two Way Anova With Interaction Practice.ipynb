{
 "cells": [
  {
   "cell_type": "markdown",
   "metadata": {
    "toc": true
   },
   "source": [
    "<h1>Table of Contents<span class=\"tocSkip\"></span></h1>\n",
    "<div class=\"toc\" style=\"margin-top: 1em;\"><ul class=\"toc-item\"><li><span><a href=\"#Note:-lm(model)-+-anova(lm)-===-aov(model)-+-summary(aov)\" data-toc-modified-id=\"Note:-lm(model)-+-anova(lm)-===-aov(model)-+-summary(aov)-1\"><span class=\"toc-item-num\">1&nbsp;&nbsp;</span>Note: lm(model) + anova(lm) === aov(model) + summary(aov)</a></span></li></ul></div>"
   ]
  },
  {
   "cell_type": "code",
   "execution_count": 3,
   "metadata": {},
   "outputs": [],
   "source": [
    "library(Stat2Data)\n",
    "library(lattice)\n",
    "\n",
    "data(Blood1)\n",
    "attach(Blood1)\n",
    "b = Blood1"
   ]
  },
  {
   "cell_type": "code",
   "execution_count": 4,
   "metadata": {},
   "outputs": [
    {
     "data": {
      "text/html": [
       "<table>\n",
       "<thead><tr><th scope=col>SystolicBP</th><th scope=col>Smoke</th><th scope=col>Overwt</th></tr></thead>\n",
       "<tbody>\n",
       "\t<tr><td>133</td><td>0  </td><td>2  </td></tr>\n",
       "\t<tr><td>115</td><td>1  </td><td>0  </td></tr>\n",
       "\t<tr><td>140</td><td>1  </td><td>1  </td></tr>\n",
       "\t<tr><td>132</td><td>0  </td><td>2  </td></tr>\n",
       "\t<tr><td>133</td><td>0  </td><td>1  </td></tr>\n",
       "\t<tr><td>138</td><td>0  </td><td>1  </td></tr>\n",
       "</tbody>\n",
       "</table>\n"
      ],
      "text/latex": [
       "\\begin{tabular}{r|lll}\n",
       " SystolicBP & Smoke & Overwt\\\\\n",
       "\\hline\n",
       "\t 133 & 0   & 2  \\\\\n",
       "\t 115 & 1   & 0  \\\\\n",
       "\t 140 & 1   & 1  \\\\\n",
       "\t 132 & 0   & 2  \\\\\n",
       "\t 133 & 0   & 1  \\\\\n",
       "\t 138 & 0   & 1  \\\\\n",
       "\\end{tabular}\n"
      ],
      "text/markdown": [
       "\n",
       "SystolicBP | Smoke | Overwt | \n",
       "|---|---|---|---|---|---|\n",
       "| 133 | 0   | 2   | \n",
       "| 115 | 1   | 0   | \n",
       "| 140 | 1   | 1   | \n",
       "| 132 | 0   | 2   | \n",
       "| 133 | 0   | 1   | \n",
       "| 138 | 0   | 1   | \n",
       "\n",
       "\n"
      ],
      "text/plain": [
       "  SystolicBP Smoke Overwt\n",
       "1 133        0     2     \n",
       "2 115        1     0     \n",
       "3 140        1     1     \n",
       "4 132        0     2     \n",
       "5 133        0     1     \n",
       "6 138        0     1     "
      ]
     },
     "metadata": {},
     "output_type": "display_data"
    }
   ],
   "source": [
    "head(b)"
   ]
  },
  {
   "cell_type": "code",
   "execution_count": 7,
   "metadata": {},
   "outputs": [
    {
     "data": {
      "text/plain": [
       "\n",
       "Call:\n",
       "lm(formula = SystolicBP ~ Smoke * Overwt)\n",
       "\n",
       "Residuals:\n",
       "    Min      1Q  Median      3Q     Max \n",
       "-63.626 -18.247  -4.665  18.316  72.060 \n",
       "\n",
       "Coefficients:\n",
       "             Estimate Std. Error t value Pr(>|t|)    \n",
       "(Intercept)   130.626      2.548  51.267  < 2e-16 ***\n",
       "Smoke          11.946      3.674   3.252  0.00123 ** \n",
       "Overwt          9.313      2.024   4.603 5.31e-06 ***\n",
       "Smoke:Overwt   -2.748      2.731  -1.006  0.31473    \n",
       "---\n",
       "Signif. codes:  0 ‘***’ 0.001 ‘**’ 0.01 ‘*’ 0.05 ‘.’ 0.1 ‘ ’ 1\n",
       "\n",
       "Residual standard error: 26.65 on 496 degrees of freedom\n",
       "Multiple R-squared:  0.09916,\tAdjusted R-squared:  0.09371 \n",
       "F-statistic:  18.2 on 3 and 496 DF,  p-value: 3.225e-11\n"
      ]
     },
     "metadata": {},
     "output_type": "display_data"
    }
   ],
   "source": [
    "b.lm = lm(SystolicBP ~ Smoke*Overwt)\n",
    "summary(b.lm)"
   ]
  },
  {
   "cell_type": "code",
   "execution_count": 8,
   "metadata": {},
   "outputs": [
    {
     "data": {
      "text/html": [
       "<table>\n",
       "<thead><tr><th></th><th scope=col>Df</th><th scope=col>Sum Sq</th><th scope=col>Mean Sq</th><th scope=col>F value</th><th scope=col>Pr(&gt;F)</th></tr></thead>\n",
       "<tbody>\n",
       "\t<tr><th scope=row>Smoke</th><td>  1         </td><td> 14634.93   </td><td>14634.9339  </td><td>20.604706   </td><td>7.093143e-06</td></tr>\n",
       "\t<tr><th scope=row>Overwt</th><td>  1         </td><td> 23425.94   </td><td>23425.9394  </td><td>32.981672   </td><td>1.623659e-08</td></tr>\n",
       "\t<tr><th scope=row>Smoke:Overwt</th><td>  1         </td><td>   719.34   </td><td>  719.3400  </td><td> 1.012768   </td><td>3.147314e-01</td></tr>\n",
       "\t<tr><th scope=row>Residuals</th><td>496         </td><td>352294.63   </td><td>  710.2714  </td><td>       NA   </td><td>          NA</td></tr>\n",
       "</tbody>\n",
       "</table>\n"
      ],
      "text/latex": [
       "\\begin{tabular}{r|lllll}\n",
       "  & Df & Sum Sq & Mean Sq & F value & Pr(>F)\\\\\n",
       "\\hline\n",
       "\tSmoke &   1          &  14634.93    & 14634.9339   & 20.604706    & 7.093143e-06\\\\\n",
       "\tOverwt &   1          &  23425.94    & 23425.9394   & 32.981672    & 1.623659e-08\\\\\n",
       "\tSmoke:Overwt &   1          &    719.34    &   719.3400   &  1.012768    & 3.147314e-01\\\\\n",
       "\tResiduals & 496          & 352294.63    &   710.2714   &        NA    &           NA\\\\\n",
       "\\end{tabular}\n"
      ],
      "text/markdown": [
       "\n",
       "| <!--/--> | Df | Sum Sq | Mean Sq | F value | Pr(>F) | \n",
       "|---|---|---|---|\n",
       "| Smoke |   1          |  14634.93    | 14634.9339   | 20.604706    | 7.093143e-06 | \n",
       "| Overwt |   1          |  23425.94    | 23425.9394   | 32.981672    | 1.623659e-08 | \n",
       "| Smoke:Overwt |   1          |    719.34    |   719.3400   |  1.012768    | 3.147314e-01 | \n",
       "| Residuals | 496          | 352294.63    |   710.2714   |        NA    |           NA | \n",
       "\n",
       "\n"
      ],
      "text/plain": [
       "             Df  Sum Sq    Mean Sq    F value   Pr(>F)      \n",
       "Smoke          1  14634.93 14634.9339 20.604706 7.093143e-06\n",
       "Overwt         1  23425.94 23425.9394 32.981672 1.623659e-08\n",
       "Smoke:Overwt   1    719.34   719.3400  1.012768 3.147314e-01\n",
       "Residuals    496 352294.63   710.2714        NA           NA"
      ]
     },
     "metadata": {},
     "output_type": "display_data"
    }
   ],
   "source": [
    "anova(b.lm)"
   ]
  },
  {
   "cell_type": "code",
   "execution_count": 10,
   "metadata": {},
   "outputs": [
    {
     "data": {
      "text/plain": [
       "\n",
       "Call:\n",
       "lm(formula = SystolicBP ~ Smoke + Overwt)\n",
       "\n",
       "Residuals:\n",
       "    Min      1Q  Median      3Q     Max \n",
       "-65.013 -18.318  -4.089  17.225  72.183 \n",
       "\n",
       "Coefficients:\n",
       "            Estimate Std. Error t value Pr(>|t|)    \n",
       "(Intercept)  132.013      2.143  61.588  < 2e-16 ***\n",
       "Smoke          9.153      2.407   3.803 0.000161 ***\n",
       "Overwt         7.805      1.359   5.743 1.62e-08 ***\n",
       "---\n",
       "Signif. codes:  0 ‘***’ 0.001 ‘**’ 0.01 ‘*’ 0.05 ‘.’ 0.1 ‘ ’ 1\n",
       "\n",
       "Residual standard error: 26.65 on 497 degrees of freedom\n",
       "Multiple R-squared:  0.09732,\tAdjusted R-squared:  0.09369 \n",
       "F-statistic: 26.79 on 2 and 497 DF,  p-value: 8.906e-12\n"
      ]
     },
     "metadata": {},
     "output_type": "display_data"
    }
   ],
   "source": [
    "b.lm2 = lm(SystolicBP ~ Smoke + Overwt)\n",
    "summary(b.lm2)"
   ]
  },
  {
   "cell_type": "code",
   "execution_count": 11,
   "metadata": {},
   "outputs": [
    {
     "data": {
      "text/html": [
       "<table>\n",
       "<thead><tr><th></th><th scope=col>Df</th><th scope=col>Sum Sq</th><th scope=col>Mean Sq</th><th scope=col>F value</th><th scope=col>Pr(&gt;F)</th></tr></thead>\n",
       "<tbody>\n",
       "\t<tr><th scope=row>Smoke</th><td>  1         </td><td> 14634.93   </td><td>14634.9339  </td><td>20.60418    </td><td>7.091854e-06</td></tr>\n",
       "\t<tr><th scope=row>Overwt</th><td>  1         </td><td> 23425.94   </td><td>23425.9394  </td><td>32.98082    </td><td>1.622578e-08</td></tr>\n",
       "\t<tr><th scope=row>Residuals</th><td>497         </td><td>353013.97   </td><td>  710.2897  </td><td>      NA    </td><td>          NA</td></tr>\n",
       "</tbody>\n",
       "</table>\n"
      ],
      "text/latex": [
       "\\begin{tabular}{r|lllll}\n",
       "  & Df & Sum Sq & Mean Sq & F value & Pr(>F)\\\\\n",
       "\\hline\n",
       "\tSmoke &   1          &  14634.93    & 14634.9339   & 20.60418     & 7.091854e-06\\\\\n",
       "\tOverwt &   1          &  23425.94    & 23425.9394   & 32.98082     & 1.622578e-08\\\\\n",
       "\tResiduals & 497          & 353013.97    &   710.2897   &       NA     &           NA\\\\\n",
       "\\end{tabular}\n"
      ],
      "text/markdown": [
       "\n",
       "| <!--/--> | Df | Sum Sq | Mean Sq | F value | Pr(>F) | \n",
       "|---|---|---|\n",
       "| Smoke |   1          |  14634.93    | 14634.9339   | 20.60418     | 7.091854e-06 | \n",
       "| Overwt |   1          |  23425.94    | 23425.9394   | 32.98082     | 1.622578e-08 | \n",
       "| Residuals | 497          | 353013.97    |   710.2897   |       NA     |           NA | \n",
       "\n",
       "\n"
      ],
      "text/plain": [
       "          Df  Sum Sq    Mean Sq    F value  Pr(>F)      \n",
       "Smoke       1  14634.93 14634.9339 20.60418 7.091854e-06\n",
       "Overwt      1  23425.94 23425.9394 32.98082 1.622578e-08\n",
       "Residuals 497 353013.97   710.2897       NA           NA"
      ]
     },
     "metadata": {},
     "output_type": "display_data"
    }
   ],
   "source": [
    "anova(b.lm2)"
   ]
  },
  {
   "cell_type": "code",
   "execution_count": 12,
   "metadata": {},
   "outputs": [
    {
     "data": {
      "image/png": "[encoded data removed]",
      "text/plain": [
       "plot without title"
      ]
     },
     "metadata": {},
     "output_type": "display_data"
    }
   ],
   "source": [
    "# No significant interaction but there is main effects\n",
    "interaction.plot(Smoke, Overwt, SystolicBP)"
   ]
  },
  {
   "cell_type": "markdown",
   "metadata": {},
   "source": [
    "## Note: lm(model) + anova(lm) === aov(model) + summary(aov)"
   ]
  },
  {
   "cell_type": "code",
   "execution_count": null,
   "metadata": {},
   "outputs": [],
   "source": []
  }
 ],
 "metadata": {
  "kernelspec": {
   "display_name": "R",
   "language": "R",
   "name": "ir"
  },
  "language_info": {
   "codemirror_mode": "r",
   "file_extension": ".r",
   "mimetype": "text/x-r-source",
   "name": "R",
   "pygments_lexer": "r",
   "version": "3.4.4"
  },
  "toc": {
   "nav_menu": {},
   "number_sections": true,
   "sideBar": false,
   "skip_h1_title": false,
   "toc_cell": true,
   "toc_position": {},
   "toc_section_display": "block",
   "toc_window_display": false
  }
 },
 "nbformat": 4,
 "nbformat_minor": 2
}
