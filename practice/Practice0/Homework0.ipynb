{
 "cells": [
  {
   "cell_type": "markdown",
   "metadata": {
    "toc": true
   },
   "source": [
    "<h1>Table of Contents<span class=\"tocSkip\"></span></h1>\n",
    "<div class=\"toc\" style=\"margin-top: 1em;\"><ul class=\"toc-item\"><li><ul class=\"toc-item\"><li><ul class=\"toc-item\"><li><span><a href=\"#Homework-0\" data-toc-modified-id=\"Homework-0-0.0.1\"><span class=\"toc-item-num\">0.0.1&nbsp;&nbsp;</span>Homework 0</a></span></li><li><span><a href=\"#Null-Hypothesis\" data-toc-modified-id=\"Null-Hypothesis-0.0.2\"><span class=\"toc-item-num\">0.0.2&nbsp;&nbsp;</span>Null Hypothesis</a></span></li><li><span><a href=\"#Alternative-Hypothesis\" data-toc-modified-id=\"Alternative-Hypothesis-0.0.3\"><span class=\"toc-item-num\">0.0.3&nbsp;&nbsp;</span>Alternative Hypothesis</a></span></li><li><span><a href=\"#P-value-=-0.0005889\" data-toc-modified-id=\"P-value-=-0.0005889-0.0.4\"><span class=\"toc-item-num\">0.0.4&nbsp;&nbsp;</span>P-value = 0.0005889</a></span></li><li><span><a href=\"#Confidence-Interval:--18.05026,--5.46058\" data-toc-modified-id=\"Confidence-Interval:--18.05026,--5.46058-0.0.5\"><span class=\"toc-item-num\">0.0.5&nbsp;&nbsp;</span>Confidence Interval: -18.05026, -5.46058</a></span></li><li><span><a href=\"#TODO:-figure-out-how-to-do-this-by-hand-and-in-general-what-is-going-on-here\" data-toc-modified-id=\"TODO:-figure-out-how-to-do-this-by-hand-and-in-general-what-is-going-on-here-0.0.6\"><span class=\"toc-item-num\">0.0.6&nbsp;&nbsp;</span>TODO: figure out how to do this by hand and in general what is going on here</a></span></li><li><span><a href=\"#Based-on-the-p-value,-we-can-conclude-the-the-observed-difference-between-the-Control-and-Incentive-group-is-significant\" data-toc-modified-id=\"Based-on-the-p-value,-we-can-conclude-the-the-observed-difference-between-the-Control-and-Incentive-group-is-significant-0.0.7\"><span class=\"toc-item-num\">0.0.7&nbsp;&nbsp;</span>Based on the p-value, we can conclude the the observed difference between the Control and Incentive group is significant</a></span></li><li><span><a href=\"#Not-sure-what-to-do-here-or-anything-below-this-point\" data-toc-modified-id=\"Not-sure-what-to-do-here-or-anything-below-this-point-0.0.8\"><span class=\"toc-item-num\">0.0.8&nbsp;&nbsp;</span>Not sure what to do here or anything below this point</a></span></li></ul></li></ul></li></ul></div>"
   ]
  },
  {
   "cell_type": "markdown",
   "metadata": {},
   "source": [
    "### Homework 0"
   ]
  },
  {
   "cell_type": "markdown",
   "metadata": {},
   "source": [
    "1. Load the WeightLossIncentive4 Data. Create graphical summaries and numerical summaries. In your final version, When knitting together only the results, not the Rcode used, should be displayed."
   ]
  },
  {
   "cell_type": "code",
   "execution_count": 2,
   "metadata": {},
   "outputs": [],
   "source": [
    "library('Stat2Data')\n",
    "library('lattice')\n",
    "data('WeightLossIncentive4')\n",
    "attach(WeightLossIncentive4)"
   ]
  },
  {
   "cell_type": "code",
   "execution_count": 3,
   "metadata": {},
   "outputs": [
    {
     "data": {},
     "metadata": {},
     "output_type": "display_data"
    },
    {
     "data": {
      "image/png": "[encoded data removed]",
      "text/plain": [
       "plot without title"
      ]
     },
     "metadata": {},
     "output_type": "display_data"
    }
   ],
   "source": [
    "xyplot(WeightLoss ~ Group)"
   ]
  },
  {
   "cell_type": "markdown",
   "metadata": {},
   "source": [
    "It seems from the graph like Incentive group outloses compared to the control group\n",
    "\n",
    "tapply is like apply(), but the second argument acts as a \"by\" variable for the first argument\n",
    "In this case, we are grouping WeightLoss by Control and Incentive"
   ]
  },
  {
   "cell_type": "code",
   "execution_count": 4,
   "metadata": {},
   "outputs": [
    {
     "data": {
      "text/html": [
       "<table>\n",
       "<thead><tr><th></th><th scope=col>n</th><th scope=col>mean</th><th scope=col>SD</th></tr></thead>\n",
       "<tbody>\n",
       "\t<tr><th scope=row>Control</th><td>19   </td><td> 3.92</td><td>9.11 </td></tr>\n",
       "\t<tr><th scope=row>Incentive</th><td>17   </td><td>15.68</td><td>9.41 </td></tr>\n",
       "</tbody>\n",
       "</table>\n"
      ],
      "text/latex": [
       "\\begin{tabular}{r|lll}\n",
       "  & n & mean & SD\\\\\n",
       "\\hline\n",
       "\tControl & 19    &  3.92 & 9.11 \\\\\n",
       "\tIncentive & 17    & 15.68 & 9.41 \\\\\n",
       "\\end{tabular}\n"
      ],
      "text/markdown": [
       "\n",
       "| <!--/--> | n | mean | SD | \n",
       "|---|---|\n",
       "| Control | 19    |  3.92 | 9.11  | \n",
       "| Incentive | 17    | 15.68 | 9.41  | \n",
       "\n",
       "\n"
      ],
      "text/plain": [
       "          n  mean  SD  \n",
       "Control   19  3.92 9.11\n",
       "Incentive 17 15.68 9.41"
      ]
     },
     "metadata": {},
     "output_type": "display_data"
    }
   ],
   "source": [
    "n <- tapply(WeightLoss, Group, length)\n",
    "mean <- tapply(WeightLoss, Group, mean)\n",
    "SD <- tapply(WeightLoss, Group, sd)\n",
    "round(cbind(n, mean, SD), 2)"
   ]
  },
  {
   "cell_type": "code",
   "execution_count": 5,
   "metadata": {},
   "outputs": [
    {
     "data": {
      "text/plain": [
       "\n",
       "\tWelch Two Sample t-test\n",
       "\n",
       "data:  WeightLoss by Group\n",
       "t = -3.7982, df = 33.276, p-value = 0.0005889\n",
       "alternative hypothesis: true difference in means is not equal to 0\n",
       "95 percent confidence interval:\n",
       " -18.05026  -5.46058\n",
       "sample estimates:\n",
       "  mean in group Control mean in group Incentive \n",
       "               3.921053               15.676471 \n"
      ]
     },
     "metadata": {},
     "output_type": "display_data"
    }
   ],
   "source": [
    "t.test(WeightLoss ~ Group)"
   ]
  },
  {
   "cell_type": "markdown",
   "metadata": {},
   "source": [
    "2. Define the competing models and associated hypotheses using symbols."
   ]
  },
  {
   "cell_type": "markdown",
   "metadata": {},
   "source": [
    "### Null Hypothesis\n",
    "$$ H_0: \\mu_1 = \\mu_2 $$\n",
    "\n",
    "### Alternative Hypothesis\n",
    "$$ H_a: \\mu_1 \\ne \\mu_2 $$"
   ]
  },
  {
   "cell_type": "markdown",
   "metadata": {},
   "source": [
    "3. Carry out the analysis. Find the p-value for the hypothesis test you defined above as well as a 95% confidence interval."
   ]
  },
  {
   "cell_type": "code",
   "execution_count": 6,
   "metadata": {},
   "outputs": [
    {
     "data": {
      "text/plain": [
       "\n",
       "\tWelch Two Sample t-test\n",
       "\n",
       "data:  WeightLoss by Group\n",
       "t = -3.7982, df = 33.276, p-value = 0.0005889\n",
       "alternative hypothesis: true difference in means is not equal to 0\n",
       "95 percent confidence interval:\n",
       " -18.05026  -5.46058\n",
       "sample estimates:\n",
       "  mean in group Control mean in group Incentive \n",
       "               3.921053               15.676471 \n"
      ]
     },
     "metadata": {},
     "output_type": "display_data"
    }
   ],
   "source": [
    "t.test(WeightLoss ~ Group)"
   ]
  },
  {
   "cell_type": "markdown",
   "metadata": {},
   "source": [
    "### P-value = 0.0005889\n",
    "### Confidence Interval: -18.05026, -5.46058\n",
    "### TODO: figure out how to do this by hand and in general what is going on here"
   ]
  },
  {
   "cell_type": "markdown",
   "metadata": {},
   "source": [
    "4. Interpret your p-value in regards to the research question."
   ]
  },
  {
   "cell_type": "markdown",
   "metadata": {},
   "source": [
    "### Based on the p-value, we can conclude the the observed difference between the Control and Incentive group is significant"
   ]
  },
  {
   "cell_type": "markdown",
   "metadata": {},
   "source": []
  },
  {
   "cell_type": "markdown",
   "metadata": {},
   "source": [
    "5. Interpret your 95% confidence interval."
   ]
  },
  {
   "cell_type": "markdown",
   "metadata": {},
   "source": [
    "Well this should mean that we are 95% certain that the interval contains the true population parameter "
   ]
  },
  {
   "cell_type": "markdown",
   "metadata": {},
   "source": [
    "### Not sure what to do here or anything below this point"
   ]
  },
  {
   "cell_type": "markdown",
   "metadata": {},
   "source": [
    "6. Assess the model fit by assessing the residuals (QQ Plot). When knitting together only the plot, not the Rcode used, should be displayed."
   ]
  },
  {
   "cell_type": "markdown",
   "metadata": {},
   "source": [
    "7. Analyze the QQ plot."
   ]
  },
  {
   "cell_type": "code",
   "execution_count": null,
   "metadata": {},
   "outputs": [],
   "source": []
  }
 ],
 "metadata": {
  "kernelspec": {
   "display_name": "R",
   "language": "R",
   "name": "ir"
  },
  "language_info": {
   "codemirror_mode": "r",
   "file_extension": ".r",
   "mimetype": "text/x-r-source",
   "name": "R",
   "pygments_lexer": "r",
   "version": "3.4.3"
  },
  "toc": {
   "nav_menu": {},
   "number_sections": true,
   "sideBar": false,
   "skip_h1_title": false,
   "toc_cell": true,
   "toc_position": {},
   "toc_section_display": "block",
   "toc_window_display": false
  }
 },
 "nbformat": 4,
 "nbformat_minor": 2
}
