{
 "cells": [
  {
   "cell_type": "markdown",
   "metadata": {
    "toc": true
   },
   "source": [
    "<h1>Table of Contents<span class=\"tocSkip\"></span></h1>\n",
    "<div class=\"toc\" style=\"margin-top: 1em;\"><ul class=\"toc-item\"><li><span><a href=\"#1)\" data-toc-modified-id=\"1)-1\"><span class=\"toc-item-num\">1&nbsp;&nbsp;</span>1)</a></span></li><li><span><a href=\"#2)\" data-toc-modified-id=\"2)-2\"><span class=\"toc-item-num\">2&nbsp;&nbsp;</span>2)</a></span></li><li><span><a href=\"#3)\" data-toc-modified-id=\"3)-3\"><span class=\"toc-item-num\">3&nbsp;&nbsp;</span>3)</a></span></li><li><span><a href=\"#4)\" data-toc-modified-id=\"4)-4\"><span class=\"toc-item-num\">4&nbsp;&nbsp;</span>4)</a></span></li><li><span><a href=\"#5)\" data-toc-modified-id=\"5)-5\"><span class=\"toc-item-num\">5&nbsp;&nbsp;</span>5)</a></span></li><li><span><a href=\"#6)\" data-toc-modified-id=\"6)-6\"><span class=\"toc-item-num\">6&nbsp;&nbsp;</span>6)</a></span></li></ul></div>"
   ]
  },
  {
   "cell_type": "markdown",
   "metadata": {},
   "source": [
    "###### Note some solutions are taken from https://github.com/asadoughi/stat-learning as they are long to type out, but are in line with what I would have otherwise typed. I am putting them here for quick reference"
   ]
  },
  {
   "cell_type": "markdown",
   "metadata": {},
   "source": [
    "# 1) \n",
    "In Table 3.4, the null hypothesis for \"TV\" is that in the presence of radio ads and newspaper ads, TV ads have no effect on sales. Similarly, the null hypothesis for \"radio\" is that in the presence of TV and newspaper ads, radio ads have no effect on sales. (And there is a similar null hypothesis for \"newspaper\".) The low p-values of TV and radio suggest that the null hypotheses are false for TV and radio. The high p-value of newspaper suggests that the null hypothesis is true for newspaper."
   ]
  },
  {
   "cell_type": "markdown",
   "metadata": {},
   "source": [
    "# 2)\n",
    "KNN classifier and KNN regression methods are closely related in formula.\n",
    "However, the final result of KNN classifier is the classification output for Y\n",
    "(qualitative), where as the output for a KNN regression predicts the\n",
    "quantitative value for f(X)."
   ]
  },
  {
   "cell_type": "markdown",
   "metadata": {},
   "source": [
    "# 3) \n",
    "$Y = 50 + 20(gpa) + 0.07(iq) + 35(gender) + 0.01(gpa * iq) - 10 (gpa * gender)$"
   ]
  },
  {
   "cell_type": "markdown",
   "metadata": {},
   "source": [
    "##### (a) $Y = 50 + 20 k_1 + 0.07 k_2 + 35 gender + 0.01(k_1 * k_2) - 10 (k_1 * gender)$\n",
    "<br>\n",
    "male: (gender = 0)   $50 + 20 k_1 + 0.07 k_2 + 0.01(k_1 * k_2)$\n",
    "<br>\n",
    "female: (gender = 1) $50 + 20 k_1 + 0.07 k_2 + 35 + 0.01(k_1 * k_2) - 10 (k_1)$\n",
    "###### iii is correct => Once gpa is high enough, males earn more than females"
   ]
  },
  {
   "cell_type": "markdown",
   "metadata": {},
   "source": [
    "##### (b) Y(Gender = 1, IQ = 110, GPA = 4.0)\n",
    "= 50 + 20 * 4 + 0.07 * 110 + 35 + 0.01 (4 * 110) - 10 * 4\n",
    "= 137.1"
   ]
  },
  {
   "cell_type": "markdown",
   "metadata": {},
   "source": [
    "##### (c)  False, this is dependent on the p-value of the interaction term. If the p-value is less than 0.05 (at 5% significance level), then there is significant evidence that the coefficient of the interaction term is different from zero"
   ]
  },
  {
   "cell_type": "markdown",
   "metadata": {},
   "source": [
    "# 4) \n",
    "\n",
    "a) I would expect the the cubic regression to have a lower training RSS because it could produce a tighter fit to the data that has a larger irreducible error (i.e. errors caused by random chance (known as noise)). "
   ]
  },
  {
   "cell_type": "markdown",
   "metadata": {},
   "source": [
    "b) Conversely to a), I would expect the cubic regression to have a large test RSS, resulting from overfitting to the random noise of the training data set (which doesn't generalize well)"
   ]
  },
  {
   "cell_type": "markdown",
   "metadata": {},
   "source": [
    "(c) Polynomial regression has lower train RSS than the linear fit because of\n",
    "higher flexibility: no matter what the underlying true relationshop is the\n",
    "more flexible model will closer follow points and reduce train RSS.\n",
    "An example of this beahvior is shown on Figure~2.9 from Chapter 2."
   ]
  },
  {
   "cell_type": "markdown",
   "metadata": {},
   "source": [
    "(d) There is not enough information to tell which test RSS would be lower\n",
    "for either regression given the problem statement is defined as not knowing\n",
    "\"how far it is from linear\". If it is closer to linear than cubic, the linear\n",
    "regression test RSS could be lower than the cubic regression test RSS.\n",
    "Or, if it is closer to cubic than linear, the cubic regression test RSS\n",
    "could be lower than the linear regression test RSS. It is dues to\n",
    "bias-variance tradeoff: it is not clear what level of flexibility will\n",
    "fit data better."
   ]
  },
  {
   "cell_type": "markdown",
   "metadata": {},
   "source": [
    "# 5)\n",
    "https://github.com/asadoughi/stat-learning/blob/master/ch3/5.jpg"
   ]
  },
  {
   "cell_type": "markdown",
   "metadata": {},
   "source": [
    "# 6) \n",
    "y = B_0 + B_1 x\n",
    "from (3.4): B_0 = avg(y) - B_1 avg(x)\n",
    "right hand side will equal 0 if (avg(x), avg(y)) is a point on the line\n",
    "0 = B_0 + B_1 avg(x) - avg(y)\n",
    "0 = (avg(y) - B_1 avg(x)) + B_1 avg(x) - avg(y)\n",
    "0 = 0"
   ]
  },
  {
   "cell_type": "code",
   "execution_count": null,
   "metadata": {},
   "outputs": [],
   "source": []
  }
 ],
 "metadata": {
  "kernelspec": {
   "display_name": "R",
   "language": "R",
   "name": "ir"
  },
  "language_info": {
   "codemirror_mode": "r",
   "file_extension": ".r",
   "mimetype": "text/x-r-source",
   "name": "R",
   "pygments_lexer": "r",
   "version": "3.4.3"
  },
  "toc": {
   "nav_menu": {},
   "number_sections": true,
   "sideBar": false,
   "skip_h1_title": false,
   "toc_cell": true,
   "toc_position": {},
   "toc_section_display": "block",
   "toc_window_display": false
  }
 },
 "nbformat": 4,
 "nbformat_minor": 2
}
