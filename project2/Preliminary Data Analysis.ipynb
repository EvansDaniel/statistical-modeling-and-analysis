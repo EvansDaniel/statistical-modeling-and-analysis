{
 "cells": [
  {
   "cell_type": "code",
   "execution_count": 2,
   "metadata": {},
   "outputs": [
    {
     "name": "stderr",
     "output_type": "stream",
     "text": [
      "Parsed with column specification:\n",
      "cols(\n",
      "  .default = col_character(),\n",
      "  Respondent = col_integer(),\n",
      "  CareerSatisfaction = col_integer(),\n",
      "  JobSatisfaction = col_integer(),\n",
      "  HoursPerWeek = col_integer(),\n",
      "  StackOverflowSatisfaction = col_integer(),\n",
      "  Salary = col_double(),\n",
      "  ExpectedSalary = col_double()\n",
      ")\n",
      "See spec(...) for full column specifications.\n"
     ]
    }
   ],
   "source": [
    "library(readr)\n",
    "library(lattice)\n",
    "stack = read_csv('survey_results_public_2017.csv')"
   ]
  },
  {
   "cell_type": "code",
   "execution_count": 3,
   "metadata": {},
   "outputs": [
    {
     "data": {
      "text/html": [
       "<table>\n",
       "<thead><tr><th scope=col>Respondent</th><th scope=col>Professional</th><th scope=col>ProgramHobby</th><th scope=col>Country</th><th scope=col>University</th><th scope=col>EmploymentStatus</th><th scope=col>FormalEducation</th><th scope=col>MajorUndergrad</th><th scope=col>HomeRemote</th><th scope=col>CompanySize</th><th scope=col>⋯</th><th scope=col>StackOverflowMakeMoney</th><th scope=col>Gender</th><th scope=col>HighestEducationParents</th><th scope=col>Race</th><th scope=col>SurveyLong</th><th scope=col>QuestionsInteresting</th><th scope=col>QuestionsConfusing</th><th scope=col>InterestedAnswers</th><th scope=col>Salary</th><th scope=col>ExpectedSalary</th></tr></thead>\n",
       "<tbody>\n",
       "\t<tr><td>1                                                                </td><td>Student                                                          </td><td>Yes, both                                                        </td><td>United States                                                    </td><td>No                                                               </td><td>Not employed, and not looking for work                           </td><td>Secondary school                                                 </td><td>NA                                                               </td><td>NA                                                               </td><td>NA                                                               </td><td>⋯                                                                </td><td>Strongly disagree                                                </td><td>Male                                                             </td><td>High school                                                      </td><td>White or of European descent                                     </td><td>Strongly disagree                                                </td><td>Strongly agree                                                   </td><td>Disagree                                                         </td><td>Strongly agree                                                   </td><td>    NA                                                           </td><td>   NA                                                            </td></tr>\n",
       "\t<tr><td>2                                                                </td><td>Student                                                          </td><td>Yes, both                                                        </td><td>United Kingdom                                                   </td><td>Yes, full-time                                                   </td><td>Employed part-time                                               </td><td>Some college/university study without earning a bachelor's degree</td><td>Computer science or software engineering                         </td><td>More than half, but not all, the time                            </td><td>20 to 99 employees                                               </td><td>⋯                                                                </td><td>Strongly disagree                                                </td><td>Male                                                             </td><td>A master's degree                                                </td><td>White or of European descent                                     </td><td>Somewhat agree                                                   </td><td>Somewhat agree                                                   </td><td>Disagree                                                         </td><td>Strongly agree                                                   </td><td>    NA                                                           </td><td>37500                                                            </td></tr>\n",
       "\t<tr><td>3                                                                </td><td>Professional developer                                           </td><td>Yes, both                                                        </td><td>United Kingdom                                                   </td><td>No                                                               </td><td>Employed full-time                                               </td><td>Bachelor's degree                                                </td><td>Computer science or software engineering                         </td><td>Less than half the time, but at least one day each week          </td><td>10,000 or more employees                                         </td><td>⋯                                                                </td><td>Disagree                                                         </td><td>Male                                                             </td><td>A professional degree                                            </td><td>White or of European descent                                     </td><td>Somewhat agree                                                   </td><td>Agree                                                            </td><td>Disagree                                                         </td><td>Agree                                                            </td><td>113750                                                           </td><td>   NA                                                            </td></tr>\n",
       "\t<tr><td>4                                                                </td><td>Professional non-developer who sometimes writes code             </td><td>Yes, both                                                        </td><td>United States                                                    </td><td>No                                                               </td><td>Employed full-time                                               </td><td>Doctoral degree                                                  </td><td>A non-computer-focused engineering discipline                    </td><td>Less than half the time, but at least one day each week          </td><td>10,000 or more employees                                         </td><td>⋯                                                                </td><td>Disagree                                                         </td><td>Male                                                             </td><td>A doctoral degree                                                </td><td>White or of European descent                                     </td><td>Agree                                                            </td><td>Agree                                                            </td><td>Somewhat agree                                                   </td><td>Strongly agree                                                   </td><td>    NA                                                           </td><td>   NA                                                            </td></tr>\n",
       "\t<tr><td>5                                                                </td><td>Professional developer                                           </td><td>Yes, I program as a hobby                                        </td><td>Switzerland                                                      </td><td>No                                                               </td><td>Employed full-time                                               </td><td>Master's degree                                                  </td><td>Computer science or software engineering                         </td><td>Never                                                            </td><td>10 to 19 employees                                               </td><td>⋯                                                                </td><td>NA                                                               </td><td>NA                                                               </td><td>NA                                                               </td><td>NA                                                               </td><td>NA                                                               </td><td>NA                                                               </td><td>NA                                                               </td><td>NA                                                               </td><td>    NA                                                           </td><td>   NA                                                            </td></tr>\n",
       "\t<tr><td>6                                                                </td><td>Student                                                          </td><td>Yes, both                                                        </td><td>New Zealand                                                      </td><td>Yes, full-time                                                   </td><td>Not employed, and not looking for work                           </td><td>Secondary school                                                 </td><td>NA                                                               </td><td>NA                                                               </td><td>NA                                                               </td><td>⋯                                                                </td><td>Disagree                                                         </td><td>NA                                                               </td><td>A bachelor's degree                                              </td><td>White or of European descent                                     </td><td>Disagree                                                         </td><td>Agree                                                            </td><td>Disagree                                                         </td><td>Agree                                                            </td><td>    NA                                                           </td><td>   NA                                                            </td></tr>\n",
       "</tbody>\n",
       "</table>\n"
      ],
      "text/latex": [
       "\\begin{tabular}{r|llllllllllllllllllllllllllllllllllllllllllllllllllllllllllllllllllllllllllllllllllllllllllllllllllllllllllllllllllllllllllllllllllllllllllllllllllllllllll}\n",
       " Respondent & Professional & ProgramHobby & Country & University & EmploymentStatus & FormalEducation & MajorUndergrad & HomeRemote & CompanySize & ⋯ & StackOverflowMakeMoney & Gender & HighestEducationParents & Race & SurveyLong & QuestionsInteresting & QuestionsConfusing & InterestedAnswers & Salary & ExpectedSalary\\\\\n",
       "\\hline\n",
       "\t 1                                                                 & Student                                                           & Yes, both                                                         & United States                                                     & No                                                                & Not employed, and not looking for work                            & Secondary school                                                  & NA                                                                & NA                                                                & NA                                                                & ⋯                                                                 & Strongly disagree                                                 & Male                                                              & High school                                                       & White or of European descent                                      & Strongly disagree                                                 & Strongly agree                                                    & Disagree                                                          & Strongly agree                                                    &     NA                                                            &    NA                                                            \\\\\n",
       "\t 2                                                                 & Student                                                           & Yes, both                                                         & United Kingdom                                                    & Yes, full-time                                                    & Employed part-time                                                & Some college/university study without earning a bachelor's degree & Computer science or software engineering                          & More than half, but not all, the time                             & 20 to 99 employees                                                & ⋯                                                                 & Strongly disagree                                                 & Male                                                              & A master's degree                                                 & White or of European descent                                      & Somewhat agree                                                    & Somewhat agree                                                    & Disagree                                                          & Strongly agree                                                    &     NA                                                            & 37500                                                            \\\\\n",
       "\t 3                                                                 & Professional developer                                            & Yes, both                                                         & United Kingdom                                                    & No                                                                & Employed full-time                                                & Bachelor's degree                                                 & Computer science or software engineering                          & Less than half the time, but at least one day each week           & 10,000 or more employees                                          & ⋯                                                                 & Disagree                                                          & Male                                                              & A professional degree                                             & White or of European descent                                      & Somewhat agree                                                    & Agree                                                             & Disagree                                                          & Agree                                                             & 113750                                                            &    NA                                                            \\\\\n",
       "\t 4                                                                 & Professional non-developer who sometimes writes code              & Yes, both                                                         & United States                                                     & No                                                                & Employed full-time                                                & Doctoral degree                                                   & A non-computer-focused engineering discipline                     & Less than half the time, but at least one day each week           & 10,000 or more employees                                          & ⋯                                                                 & Disagree                                                          & Male                                                              & A doctoral degree                                                 & White or of European descent                                      & Agree                                                             & Agree                                                             & Somewhat agree                                                    & Strongly agree                                                    &     NA                                                            &    NA                                                            \\\\\n",
       "\t 5                                                                 & Professional developer                                            & Yes, I program as a hobby                                         & Switzerland                                                       & No                                                                & Employed full-time                                                & Master's degree                                                   & Computer science or software engineering                          & Never                                                             & 10 to 19 employees                                                & ⋯                                                                 & NA                                                                & NA                                                                & NA                                                                & NA                                                                & NA                                                                & NA                                                                & NA                                                                & NA                                                                &     NA                                                            &    NA                                                            \\\\\n",
       "\t 6                                                                 & Student                                                           & Yes, both                                                         & New Zealand                                                       & Yes, full-time                                                    & Not employed, and not looking for work                            & Secondary school                                                  & NA                                                                & NA                                                                & NA                                                                & ⋯                                                                 & Disagree                                                          & NA                                                                & A bachelor's degree                                               & White or of European descent                                      & Disagree                                                          & Agree                                                             & Disagree                                                          & Agree                                                             &     NA                                                            &    NA                                                            \\\\\n",
       "\\end{tabular}\n"
      ],
      "text/markdown": [
       "\n",
       "Respondent | Professional | ProgramHobby | Country | University | EmploymentStatus | FormalEducation | MajorUndergrad | HomeRemote | CompanySize | ⋯ | StackOverflowMakeMoney | Gender | HighestEducationParents | Race | SurveyLong | QuestionsInteresting | QuestionsConfusing | InterestedAnswers | Salary | ExpectedSalary | \n",
       "|---|---|---|---|---|---|\n",
       "| 1                                                                 | Student                                                           | Yes, both                                                         | United States                                                     | No                                                                | Not employed, and not looking for work                            | Secondary school                                                  | NA                                                                | NA                                                                | NA                                                                | ⋯                                                                 | Strongly disagree                                                 | Male                                                              | High school                                                       | White or of European descent                                      | Strongly disagree                                                 | Strongly agree                                                    | Disagree                                                          | Strongly agree                                                    |     NA                                                            |    NA                                                             | \n",
       "| 2                                                                 | Student                                                           | Yes, both                                                         | United Kingdom                                                    | Yes, full-time                                                    | Employed part-time                                                | Some college/university study without earning a bachelor's degree | Computer science or software engineering                          | More than half, but not all, the time                             | 20 to 99 employees                                                | ⋯                                                                 | Strongly disagree                                                 | Male                                                              | A master's degree                                                 | White or of European descent                                      | Somewhat agree                                                    | Somewhat agree                                                    | Disagree                                                          | Strongly agree                                                    |     NA                                                            | 37500                                                             | \n",
       "| 3                                                                 | Professional developer                                            | Yes, both                                                         | United Kingdom                                                    | No                                                                | Employed full-time                                                | Bachelor's degree                                                 | Computer science or software engineering                          | Less than half the time, but at least one day each week           | 10,000 or more employees                                          | ⋯                                                                 | Disagree                                                          | Male                                                              | A professional degree                                             | White or of European descent                                      | Somewhat agree                                                    | Agree                                                             | Disagree                                                          | Agree                                                             | 113750                                                            |    NA                                                             | \n",
       "| 4                                                                 | Professional non-developer who sometimes writes code              | Yes, both                                                         | United States                                                     | No                                                                | Employed full-time                                                | Doctoral degree                                                   | A non-computer-focused engineering discipline                     | Less than half the time, but at least one day each week           | 10,000 or more employees                                          | ⋯                                                                 | Disagree                                                          | Male                                                              | A doctoral degree                                                 | White or of European descent                                      | Agree                                                             | Agree                                                             | Somewhat agree                                                    | Strongly agree                                                    |     NA                                                            |    NA                                                             | \n",
       "| 5                                                                 | Professional developer                                            | Yes, I program as a hobby                                         | Switzerland                                                       | No                                                                | Employed full-time                                                | Master's degree                                                   | Computer science or software engineering                          | Never                                                             | 10 to 19 employees                                                | ⋯                                                                 | NA                                                                | NA                                                                | NA                                                                | NA                                                                | NA                                                                | NA                                                                | NA                                                                | NA                                                                |     NA                                                            |    NA                                                             | \n",
       "| 6                                                                 | Student                                                           | Yes, both                                                         | New Zealand                                                       | Yes, full-time                                                    | Not employed, and not looking for work                            | Secondary school                                                  | NA                                                                | NA                                                                | NA                                                                | ⋯                                                                 | Disagree                                                          | NA                                                                | A bachelor's degree                                               | White or of European descent                                      | Disagree                                                          | Agree                                                             | Disagree                                                          | Agree                                                             |     NA                                                            |    NA                                                             | \n",
       "\n",
       "\n"
      ],
      "text/plain": [
       "  Respondent Professional                                        \n",
       "1 1          Student                                             \n",
       "2 2          Student                                             \n",
       "3 3          Professional developer                              \n",
       "4 4          Professional non-developer who sometimes writes code\n",
       "5 5          Professional developer                              \n",
       "6 6          Student                                             \n",
       "  ProgramHobby              Country        University    \n",
       "1 Yes, both                 United States  No            \n",
       "2 Yes, both                 United Kingdom Yes, full-time\n",
       "3 Yes, both                 United Kingdom No            \n",
       "4 Yes, both                 United States  No            \n",
       "5 Yes, I program as a hobby Switzerland    No            \n",
       "6 Yes, both                 New Zealand    Yes, full-time\n",
       "  EmploymentStatus                      \n",
       "1 Not employed, and not looking for work\n",
       "2 Employed part-time                    \n",
       "3 Employed full-time                    \n",
       "4 Employed full-time                    \n",
       "5 Employed full-time                    \n",
       "6 Not employed, and not looking for work\n",
       "  FormalEducation                                                  \n",
       "1 Secondary school                                                 \n",
       "2 Some college/university study without earning a bachelor's degree\n",
       "3 Bachelor's degree                                                \n",
       "4 Doctoral degree                                                  \n",
       "5 Master's degree                                                  \n",
       "6 Secondary school                                                 \n",
       "  MajorUndergrad                               \n",
       "1 NA                                           \n",
       "2 Computer science or software engineering     \n",
       "3 Computer science or software engineering     \n",
       "4 A non-computer-focused engineering discipline\n",
       "5 Computer science or software engineering     \n",
       "6 NA                                           \n",
       "  HomeRemote                                             \n",
       "1 NA                                                     \n",
       "2 More than half, but not all, the time                  \n",
       "3 Less than half the time, but at least one day each week\n",
       "4 Less than half the time, but at least one day each week\n",
       "5 Never                                                  \n",
       "6 NA                                                     \n",
       "  CompanySize              ⋯ StackOverflowMakeMoney Gender\n",
       "1 NA                       ⋯ Strongly disagree      Male  \n",
       "2 20 to 99 employees       ⋯ Strongly disagree      Male  \n",
       "3 10,000 or more employees ⋯ Disagree               Male  \n",
       "4 10,000 or more employees ⋯ Disagree               Male  \n",
       "5 10 to 19 employees       ⋯ NA                     NA    \n",
       "6 NA                       ⋯ Disagree               NA    \n",
       "  HighestEducationParents Race                         SurveyLong       \n",
       "1 High school             White or of European descent Strongly disagree\n",
       "2 A master's degree       White or of European descent Somewhat agree   \n",
       "3 A professional degree   White or of European descent Somewhat agree   \n",
       "4 A doctoral degree       White or of European descent Agree            \n",
       "5 NA                      NA                           NA               \n",
       "6 A bachelor's degree     White or of European descent Disagree         \n",
       "  QuestionsInteresting QuestionsConfusing InterestedAnswers Salary\n",
       "1 Strongly agree       Disagree           Strongly agree        NA\n",
       "2 Somewhat agree       Disagree           Strongly agree        NA\n",
       "3 Agree                Disagree           Agree             113750\n",
       "4 Agree                Somewhat agree     Strongly agree        NA\n",
       "5 NA                   NA                 NA                    NA\n",
       "6 Agree                Disagree           Agree                 NA\n",
       "  ExpectedSalary\n",
       "1    NA         \n",
       "2 37500         \n",
       "3    NA         \n",
       "4    NA         \n",
       "5    NA         \n",
       "6    NA         "
      ]
     },
     "metadata": {},
     "output_type": "display_data"
    }
   ],
   "source": [
    "head(stack)"
   ]
  },
  {
   "cell_type": "code",
   "execution_count": 11,
   "metadata": {},
   "outputs": [
    {
     "data": {
      "text/plain": [
       "\n",
       "           Important Not at all important   Not very important \n",
       "                9788                  156                  778 \n",
       "  Somewhat important       Very important \n",
       "                3667                 7757 "
      ]
     },
     "metadata": {},
     "output_type": "display_data"
    }
   ],
   "source": [
    "table(stack['AssessJobCompensation'])"
   ]
  },
  {
   "cell_type": "code",
   "execution_count": null,
   "metadata": {},
   "outputs": [],
   "source": []
  }
 ],
 "metadata": {
  "kernelspec": {
   "display_name": "R",
   "language": "R",
   "name": "ir"
  },
  "language_info": {
   "codemirror_mode": "r",
   "file_extension": ".r",
   "mimetype": "text/x-r-source",
   "name": "R",
   "pygments_lexer": "r",
   "version": "3.4.1"
  }
 },
 "nbformat": 4,
 "nbformat_minor": 2
}
