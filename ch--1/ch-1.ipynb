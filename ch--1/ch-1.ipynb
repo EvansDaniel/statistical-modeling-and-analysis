{
 "cells": [
  {
   "cell_type": "markdown",
   "metadata": {
    "toc": true
   },
   "source": [
    "<h1>Table of Contents<span class=\"tocSkip\"></span></h1>\n",
    "<div class=\"toc\" style=\"margin-top: 1em;\"><ul class=\"toc-item\"></ul></div>"
   ]
  },
  {
   "cell_type": "markdown",
   "metadata": {},
   "source": [
    "c func makes array of values\n"
   ]
  },
  {
   "cell_type": "code",
   "execution_count": 1,
   "metadata": {
    "autoscroll": false
   },
   "outputs": [
    {
     "data": {
      "text/html": [
       "<ol class=list-inline>\n",
       "\t<li>14</li>\n",
       "\t<li>7</li>\n",
       "\t<li>7</li>\n",
       "\t<li>8</li>\n",
       "</ol>\n"
      ],
      "text/latex": [
       "\\begin{enumerate*}\n",
       "\\item 14\n",
       "\\item 7\n",
       "\\item 7\n",
       "\\item 8\n",
       "\\end{enumerate*}\n"
      ],
      "text/markdown": [
       "1. 14\n",
       "2. 7\n",
       "3. 7\n",
       "4. 8\n",
       "\n",
       "\n"
      ],
      "text/plain": [
       "[1] 14  7  7  8"
      ]
     },
     "metadata": {},
     "output_type": "display_data"
    }
   ],
   "source": [
    "x <- c(10, 3, 3, 4)\n",
    "x + 4"
   ]
  },
  {
   "cell_type": "code",
   "execution_count": 2,
   "metadata": {
    "autoscroll": false
   },
   "outputs": [
    {
     "data": {
      "text/html": [
       "10"
      ],
      "text/latex": [
       "10"
      ],
      "text/markdown": [
       "10"
      ],
      "text/plain": [
       "[1] 10"
      ]
     },
     "metadata": {},
     "output_type": "display_data"
    }
   ],
   "source": [
    "y <- max(x)\n",
    "y"
   ]
  },
  {
   "cell_type": "markdown",
   "metadata": {},
   "source": [
    "\n",
    "Math on vectors computes for each element\n"
   ]
  },
  {
   "cell_type": "code",
   "execution_count": 3,
   "metadata": {
    "autoscroll": false
   },
   "outputs": [
    {
     "data": {
      "text/html": [
       "<ol class=list-inline>\n",
       "\t<li>100</li>\n",
       "\t<li>9</li>\n",
       "\t<li>9</li>\n",
       "\t<li>16</li>\n",
       "</ol>\n"
      ],
      "text/latex": [
       "\\begin{enumerate*}\n",
       "\\item 100\n",
       "\\item 9\n",
       "\\item 9\n",
       "\\item 16\n",
       "\\end{enumerate*}\n"
      ],
      "text/markdown": [
       "1. 100\n",
       "2. 9\n",
       "3. 9\n",
       "4. 16\n",
       "\n",
       "\n"
      ],
      "text/plain": [
       "[1] 100   9   9  16"
      ]
     },
     "metadata": {},
     "output_type": "display_data"
    }
   ],
   "source": [
    "x^2"
   ]
  },
  {
   "cell_type": "markdown",
   "metadata": {},
   "source": [
    "Take the mean of vector\n"
   ]
  },
  {
   "cell_type": "code",
   "execution_count": 4,
   "metadata": {
    "autoscroll": false
   },
   "outputs": [
    {
     "data": {
      "text/html": [
       "4.16666666666667"
      ],
      "text/latex": [
       "4.16666666666667"
      ],
      "text/markdown": [
       "4.16666666666667"
      ],
      "text/plain": [
       "[1] 4.166667"
      ]
     },
     "metadata": {},
     "output_type": "display_data"
    }
   ],
   "source": [
    "x <- c(1, 3, 4, 6, 5, 6)\n",
    "mean(x)"
   ]
  },
  {
   "cell_type": "markdown",
   "metadata": {},
   "source": [
    "Standard deviation of vector"
   ]
  },
  {
   "cell_type": "code",
   "execution_count": 5,
   "metadata": {},
   "outputs": [
    {
     "data": {
      "text/html": [
       "<table>\n",
       "<tbody>\n",
       "\t<tr><td>1</td><td>6</td></tr>\n",
       "\t<tr><td>3</td><td>5</td></tr>\n",
       "\t<tr><td>4</td><td>6</td></tr>\n",
       "</tbody>\n",
       "</table>\n"
      ],
      "text/latex": [
       "\\begin{tabular}{ll}\n",
       "\t 1 & 6\\\\\n",
       "\t 3 & 5\\\\\n",
       "\t 4 & 6\\\\\n",
       "\\end{tabular}\n"
      ],
      "text/markdown": [
       "\n",
       "| 1 | 6 | \n",
       "| 3 | 5 | \n",
       "| 4 | 6 | \n",
       "\n",
       "\n"
      ],
      "text/plain": [
       "     [,1] [,2]\n",
       "[1,] 1    6   \n",
       "[2,] 3    5   \n",
       "[3,] 4    6   "
      ]
     },
     "metadata": {},
     "output_type": "display_data"
    }
   ],
   "source": [
    "y <- matrix(x, nrow=3)\n",
    "y"
   ]
  },
  {
   "cell_type": "markdown",
   "metadata": {},
   "source": [
    "Applies sum function to each row in matrix"
   ]
  },
  {
   "cell_type": "code",
   "execution_count": 6,
   "metadata": {},
   "outputs": [
    {
     "data": {
      "text/html": [
       "<ol class=list-inline>\n",
       "\t<li>7</li>\n",
       "\t<li>8</li>\n",
       "\t<li>10</li>\n",
       "</ol>\n"
      ],
      "text/latex": [
       "\\begin{enumerate*}\n",
       "\\item 7\n",
       "\\item 8\n",
       "\\item 10\n",
       "\\end{enumerate*}\n"
      ],
      "text/markdown": [
       "1. 7\n",
       "2. 8\n",
       "3. 10\n",
       "\n",
       "\n"
      ],
      "text/plain": [
       "[1]  7  8 10"
      ]
     },
     "metadata": {},
     "output_type": "display_data"
    }
   ],
   "source": [
    "apply(y, 1, sum)"
   ]
  },
  {
   "cell_type": "markdown",
   "metadata": {},
   "source": [
    "Applies sum function to each column in matrix"
   ]
  },
  {
   "cell_type": "code",
   "execution_count": 7,
   "metadata": {},
   "outputs": [
    {
     "data": {
      "text/html": [
       "<ol class=list-inline>\n",
       "\t<li>8</li>\n",
       "\t<li>17</li>\n",
       "</ol>\n"
      ],
      "text/latex": [
       "\\begin{enumerate*}\n",
       "\\item 8\n",
       "\\item 17\n",
       "\\end{enumerate*}\n"
      ],
      "text/markdown": [
       "1. 8\n",
       "2. 17\n",
       "\n",
       "\n"
      ],
      "text/plain": [
       "[1]  8 17"
      ]
     },
     "metadata": {},
     "output_type": "display_data"
    }
   ],
   "source": [
    "apply(y, 2, sum)"
   ]
  },
  {
   "cell_type": "code",
   "execution_count": 8,
   "metadata": {},
   "outputs": [
    {
     "data": {
      "text/html": [
       "<table>\n",
       "<tbody>\n",
       "\t<tr><td>1</td><td>3</td></tr>\n",
       "\t<tr><td>4</td><td>6</td></tr>\n",
       "\t<tr><td>5</td><td>6</td></tr>\n",
       "</tbody>\n",
       "</table>\n"
      ],
      "text/latex": [
       "\\begin{tabular}{ll}\n",
       "\t 1 & 3\\\\\n",
       "\t 4 & 6\\\\\n",
       "\t 5 & 6\\\\\n",
       "\\end{tabular}\n"
      ],
      "text/markdown": [
       "\n",
       "| 1 | 3 | \n",
       "| 4 | 6 | \n",
       "| 5 | 6 | \n",
       "\n",
       "\n"
      ],
      "text/plain": [
       "     [,1] [,2]\n",
       "[1,] 1    3   \n",
       "[2,] 4    6   \n",
       "[3,] 5    6   "
      ]
     },
     "metadata": {},
     "output_type": "display_data"
    }
   ],
   "source": [
    "z <- matrix(x, nrow=3, byrow=TRUE)\n",
    "z"
   ]
  },
  {
   "cell_type": "code",
   "execution_count": 9,
   "metadata": {},
   "outputs": [
    {
     "data": {
      "text/html": [
       "<table>\n",
       "<thead><tr><th scope=col>name</th><th scope=col></th><th scope=col></th></tr></thead>\n",
       "<tbody>\n",
       "\t<tr><td>Emily</td><td>1    </td><td>3    </td></tr>\n",
       "\t<tr><td>Tim  </td><td>4    </td><td>6    </td></tr>\n",
       "\t<tr><td>Jeff </td><td>5    </td><td>6    </td></tr>\n",
       "</tbody>\n",
       "</table>\n"
      ],
      "text/latex": [
       "\\begin{tabular}{lll}\n",
       " name &  & \\\\\n",
       "\\hline\n",
       "\t Emily & 1     & 3    \\\\\n",
       "\t Tim   & 4     & 6    \\\\\n",
       "\t Jeff  & 5     & 6    \\\\\n",
       "\\end{tabular}\n"
      ],
      "text/markdown": [
       "\n",
       "name |  |  | \n",
       "|---|---|---|\n",
       "| Emily | 1     | 3     | \n",
       "| Tim   | 4     | 6     | \n",
       "| Jeff  | 5     | 6     | \n",
       "\n",
       "\n"
      ],
      "text/plain": [
       "     name     \n",
       "[1,] Emily 1 3\n",
       "[2,] Tim   4 6\n",
       "[3,] Jeff  5 6"
      ]
     },
     "metadata": {},
     "output_type": "display_data"
    }
   ],
   "source": [
    "name <- c(\"Emily\", \"Tim\", \"Jeff\")\n",
    "# This will combine the z matrix with the name (makes three columns)\n",
    "my.mat <- cbind(name, z)\n",
    "my.mat"
   ]
  },
  {
   "cell_type": "code",
   "execution_count": 10,
   "metadata": {},
   "outputs": [
    {
     "data": {
      "text/html": [
       "TRUE"
      ],
      "text/latex": [
       "TRUE"
      ],
      "text/markdown": [
       "TRUE"
      ],
      "text/plain": [
       "[1] TRUE"
      ]
     },
     "metadata": {},
     "output_type": "display_data"
    }
   ],
   "source": [
    "is.matrix(my.mat)"
   ]
  },
  {
   "cell_type": "code",
   "execution_count": 11,
   "metadata": {},
   "outputs": [
    {
     "data": {
      "text/html": [
       "FALSE"
      ],
      "text/latex": [
       "FALSE"
      ],
      "text/markdown": [
       "FALSE"
      ],
      "text/plain": [
       "[1] FALSE"
      ]
     },
     "metadata": {},
     "output_type": "display_data"
    }
   ],
   "source": [
    "is.data.frame(my.mat)"
   ]
  },
  {
   "cell_type": "code",
   "execution_count": 12,
   "metadata": {},
   "outputs": [
    {
     "data": {
      "text/html": [
       "<ol class=list-inline>\n",
       "\t<li>'1'</li>\n",
       "\t<li>'4'</li>\n",
       "\t<li>'5'</li>\n",
       "</ol>\n"
      ],
      "text/latex": [
       "\\begin{enumerate*}\n",
       "\\item '1'\n",
       "\\item '4'\n",
       "\\item '5'\n",
       "\\end{enumerate*}\n"
      ],
      "text/markdown": [
       "1. '1'\n",
       "2. '4'\n",
       "3. '5'\n",
       "\n",
       "\n"
      ],
      "text/plain": [
       "[1] \"1\" \"4\" \"5\""
      ]
     },
     "metadata": {},
     "output_type": "display_data"
    }
   ],
   "source": [
    "my.mat[,2]"
   ]
  },
  {
   "cell_type": "markdown",
   "metadata": {},
   "source": [
    "Even though my.mat[,2] is numbers, since it contains strings as well, numbers are coerced to strings so we can't operate on them as numbers"
   ]
  },
  {
   "cell_type": "code",
   "execution_count": 13,
   "metadata": {},
   "outputs": [
    {
     "name": "stderr",
     "output_type": "stream",
     "text": [
      "Warning message in mean.default(my.mat[, 2]):\n",
      "“argument is not numeric or logical: returning NA”"
     ]
    },
    {
     "data": {
      "text/html": [
       "&lt;NA&gt;"
      ],
      "text/latex": [
       "<NA>"
      ],
      "text/markdown": [
       "&lt;NA&gt;"
      ],
      "text/plain": [
       "[1] NA"
      ]
     },
     "metadata": {},
     "output_type": "display_data"
    }
   ],
   "source": [
    "mean(my.mat[,2])"
   ]
  },
  {
   "cell_type": "markdown",
   "metadata": {},
   "source": [
    "Data frames can have different types of data"
   ]
  },
  {
   "cell_type": "code",
   "execution_count": 14,
   "metadata": {},
   "outputs": [
    {
     "data": {
      "text/html": [
       "TRUE"
      ],
      "text/latex": [
       "TRUE"
      ],
      "text/markdown": [
       "TRUE"
      ],
      "text/plain": [
       "[1] TRUE"
      ]
     },
     "metadata": {},
     "output_type": "display_data"
    }
   ],
   "source": [
    "my.data <- data.frame(name, z)\n",
    "is.data.frame(my.data)"
   ]
  },
  {
   "cell_type": "markdown",
   "metadata": {},
   "source": [
    "So we can take mean as expected"
   ]
  },
  {
   "cell_type": "code",
   "execution_count": 15,
   "metadata": {},
   "outputs": [
    {
     "data": {
      "text/html": [
       "3.33333333333333"
      ],
      "text/latex": [
       "3.33333333333333"
      ],
      "text/markdown": [
       "3.33333333333333"
      ],
      "text/plain": [
       "[1] 3.333333"
      ]
     },
     "metadata": {},
     "output_type": "display_data"
    }
   ],
   "source": [
    "mean(my.data[,2])"
   ]
  },
  {
   "cell_type": "markdown",
   "metadata": {},
   "source": [
    "names gets/sets the column names of data frame"
   ]
  },
  {
   "cell_type": "code",
   "execution_count": 16,
   "metadata": {},
   "outputs": [],
   "source": [
    "names(my.data) <- c(\"Name\", \"Teeth\", \"Crawl\")"
   ]
  },
  {
   "cell_type": "code",
   "execution_count": 17,
   "metadata": {},
   "outputs": [
    {
     "data": {
      "text/html": [
       "<table>\n",
       "<thead><tr><th scope=col>Name</th><th scope=col>Teeth</th><th scope=col>Crawl</th></tr></thead>\n",
       "<tbody>\n",
       "\t<tr><td>Emily</td><td>1    </td><td>3    </td></tr>\n",
       "\t<tr><td>Tim  </td><td>4    </td><td>6    </td></tr>\n",
       "\t<tr><td>Jeff </td><td>5    </td><td>6    </td></tr>\n",
       "</tbody>\n",
       "</table>\n"
      ],
      "text/latex": [
       "\\begin{tabular}{r|lll}\n",
       " Name & Teeth & Crawl\\\\\n",
       "\\hline\n",
       "\t Emily & 1     & 3    \\\\\n",
       "\t Tim   & 4     & 6    \\\\\n",
       "\t Jeff  & 5     & 6    \\\\\n",
       "\\end{tabular}\n"
      ],
      "text/markdown": [
       "\n",
       "Name | Teeth | Crawl | \n",
       "|---|---|---|\n",
       "| Emily | 1     | 3     | \n",
       "| Tim   | 4     | 6     | \n",
       "| Jeff  | 5     | 6     | \n",
       "\n",
       "\n"
      ],
      "text/plain": [
       "  Name  Teeth Crawl\n",
       "1 Emily 1     3    \n",
       "2 Tim   4     6    \n",
       "3 Jeff  5     6    "
      ]
     },
     "metadata": {},
     "output_type": "display_data"
    }
   ],
   "source": [
    "my.data"
   ]
  },
  {
   "cell_type": "code",
   "execution_count": 58,
   "metadata": {},
   "outputs": [],
   "source": [
    "# mean(Teeth) Throws error because Teeth column name not in global scope"
   ]
  },
  {
   "cell_type": "code",
   "execution_count": 19,
   "metadata": {},
   "outputs": [
    {
     "data": {
      "text/html": [
       "3.33333333333333"
      ],
      "text/latex": [
       "3.33333333333333"
      ],
      "text/markdown": [
       "3.33333333333333"
      ],
      "text/plain": [
       "[1] 3.333333"
      ]
     },
     "metadata": {},
     "output_type": "display_data"
    }
   ],
   "source": [
    "mean(my.data$Teeth)"
   ]
  },
  {
   "cell_type": "markdown",
   "metadata": {},
   "source": [
    "attach() brings all columns in data frame into global scope w/ var names equal to column name"
   ]
  },
  {
   "cell_type": "code",
   "execution_count": 20,
   "metadata": {},
   "outputs": [],
   "source": [
    "attach(my.data)"
   ]
  },
  {
   "cell_type": "code",
   "execution_count": 21,
   "metadata": {},
   "outputs": [
    {
     "data": {
      "text/html": [
       "3.33333333333333"
      ],
      "text/latex": [
       "3.33333333333333"
      ],
      "text/markdown": [
       "3.33333333333333"
      ],
      "text/plain": [
       "[1] 3.333333"
      ]
     },
     "metadata": {},
     "output_type": "display_data"
    }
   ],
   "source": [
    "mean(Teeth)"
   ]
  },
  {
   "cell_type": "code",
   "execution_count": 22,
   "metadata": {},
   "outputs": [],
   "source": [
    "detach(my.data)"
   ]
  },
  {
   "cell_type": "code",
   "execution_count": 23,
   "metadata": {},
   "outputs": [],
   "source": [
    "?detach # For when you need help :)"
   ]
  },
  {
   "cell_type": "code",
   "execution_count": 2,
   "metadata": {},
   "outputs": [],
   "source": [
    "Data1Survey.df <- read.csv(file='Day1Survey.csv')"
   ]
  },
  {
   "cell_type": "code",
   "execution_count": 4,
   "metadata": {},
   "outputs": [
    {
     "data": {
      "text/html": [
       "<table>\n",
       "<thead><tr><th scope=col>Section</th><th scope=col>Class</th><th scope=col>Sex</th><th scope=col>Distance</th><th scope=col>Height</th><th scope=col>Handedness</th><th scope=col>Coins</th><th scope=col>WhiteString</th><th scope=col>BlackString</th><th scope=col>Reading</th><th scope=col>TV</th><th scope=col>Pulse</th><th scope=col>Texting</th></tr></thead>\n",
       "<tbody>\n",
       "\t<tr><td>1       </td><td>Senior  </td><td>F       </td><td> 400    </td><td>62      </td><td>Right   </td><td> 1.12   </td><td>42      </td><td>6       </td><td> 80     </td><td> 3      </td><td>71      </td><td>  3     </td></tr>\n",
       "\t<tr><td>1       </td><td>*       </td><td>F       </td><td> 450    </td><td>61      </td><td>Left    </td><td>29.00   </td><td>45      </td><td>5       </td><td>100     </td><td>10      </td><td>78      </td><td>100     </td></tr>\n",
       "\t<tr><td>1       </td><td>Freshman</td><td>F       </td><td>3000    </td><td>61      </td><td>Right   </td><td> 1.50   </td><td>22      </td><td>4       </td><td>100     </td><td> 4      </td><td>80      </td><td>  2     </td></tr>\n",
       "\t<tr><td>1       </td><td>Freshman</td><td>M       </td><td> 100    </td><td>72      </td><td>Right   </td><td> 0.07   </td><td>40      </td><td>4       </td><td> 50     </td><td>25      </td><td>63      </td><td>200     </td></tr>\n",
       "\t<tr><td>1       </td><td>N/A     </td><td>F       </td><td>2000    </td><td>69      </td><td>Right   </td><td> 0.12   </td><td>48      </td><td>7       </td><td>200     </td><td> 5      </td><td>63      </td><td>100     </td></tr>\n",
       "\t<tr><td>1       </td><td>Senior  </td><td>M       </td><td> 500    </td><td>73      </td><td>Right   </td><td> 8.00   </td><td>30      </td><td>8       </td><td>100     </td><td> 0      </td><td>56      </td><td>  1     </td></tr>\n",
       "</tbody>\n",
       "</table>\n"
      ],
      "text/latex": [
       "\\begin{tabular}{r|lllllllllllll}\n",
       " Section & Class & Sex & Distance & Height & Handedness & Coins & WhiteString & BlackString & Reading & TV & Pulse & Texting\\\\\n",
       "\\hline\n",
       "\t 1        & Senior   & F        &  400     & 62       & Right    &  1.12    & 42       & 6        &  80      &  3       & 71       &   3     \\\\\n",
       "\t 1        & *        & F        &  450     & 61       & Left     & 29.00    & 45       & 5        & 100      & 10       & 78       & 100     \\\\\n",
       "\t 1        & Freshman & F        & 3000     & 61       & Right    &  1.50    & 22       & 4        & 100      &  4       & 80       &   2     \\\\\n",
       "\t 1        & Freshman & M        &  100     & 72       & Right    &  0.07    & 40       & 4        &  50      & 25       & 63       & 200     \\\\\n",
       "\t 1        & N/A      & F        & 2000     & 69       & Right    &  0.12    & 48       & 7        & 200      &  5       & 63       & 100     \\\\\n",
       "\t 1        & Senior   & M        &  500     & 73       & Right    &  8.00    & 30       & 8        & 100      &  0       & 56       &   1     \\\\\n",
       "\\end{tabular}\n"
      ],
      "text/markdown": [
       "\n",
       "Section | Class | Sex | Distance | Height | Handedness | Coins | WhiteString | BlackString | Reading | TV | Pulse | Texting | \n",
       "|---|---|---|---|---|---|\n",
       "| 1        | Senior   | F        |  400     | 62       | Right    |  1.12    | 42       | 6        |  80      |  3       | 71       |   3      | \n",
       "| 1        | *        | F        |  450     | 61       | Left     | 29.00    | 45       | 5        | 100      | 10       | 78       | 100      | \n",
       "| 1        | Freshman | F        | 3000     | 61       | Right    |  1.50    | 22       | 4        | 100      |  4       | 80       |   2      | \n",
       "| 1        | Freshman | M        |  100     | 72       | Right    |  0.07    | 40       | 4        |  50      | 25       | 63       | 200      | \n",
       "| 1        | N/A      | F        | 2000     | 69       | Right    |  0.12    | 48       | 7        | 200      |  5       | 63       | 100      | \n",
       "| 1        | Senior   | M        |  500     | 73       | Right    |  8.00    | 30       | 8        | 100      |  0       | 56       |   1      | \n",
       "\n",
       "\n"
      ],
      "text/plain": [
       "  Section Class    Sex Distance Height Handedness Coins WhiteString BlackString\n",
       "1 1       Senior   F    400     62     Right       1.12 42          6          \n",
       "2 1       *        F    450     61     Left       29.00 45          5          \n",
       "3 1       Freshman F   3000     61     Right       1.50 22          4          \n",
       "4 1       Freshman M    100     72     Right       0.07 40          4          \n",
       "5 1       N/A      F   2000     69     Right       0.12 48          7          \n",
       "6 1       Senior   M    500     73     Right       8.00 30          8          \n",
       "  Reading TV Pulse Texting\n",
       "1  80      3 71      3    \n",
       "2 100     10 78    100    \n",
       "3 100      4 80      2    \n",
       "4  50     25 63    200    \n",
       "5 200      5 63    100    \n",
       "6 100      0 56      1    "
      ]
     },
     "metadata": {},
     "output_type": "display_data"
    }
   ],
   "source": [
    "head(Data1Survey.df)"
   ]
  },
  {
   "cell_type": "code",
   "execution_count": 5,
   "metadata": {},
   "outputs": [
    {
     "data": {
      "text/html": [
       "<ol class=list-inline>\n",
       "\t<li>43</li>\n",
       "\t<li>13</li>\n",
       "</ol>\n"
      ],
      "text/latex": [
       "\\begin{enumerate*}\n",
       "\\item 43\n",
       "\\item 13\n",
       "\\end{enumerate*}\n"
      ],
      "text/markdown": [
       "1. 43\n",
       "2. 13\n",
       "\n",
       "\n"
      ],
      "text/plain": [
       "[1] 43 13"
      ]
     },
     "metadata": {},
     "output_type": "display_data"
    }
   ],
   "source": [
    "dim(Data1Survey.df)"
   ]
  },
  {
   "cell_type": "code",
   "execution_count": 6,
   "metadata": {},
   "outputs": [
    {
     "data": {
      "text/html": [
       "<ol class=list-inline>\n",
       "\t<li>'Section'</li>\n",
       "\t<li>'Class'</li>\n",
       "\t<li>'Sex'</li>\n",
       "\t<li>'Distance'</li>\n",
       "\t<li>'Height'</li>\n",
       "\t<li>'Handedness'</li>\n",
       "\t<li>'Coins'</li>\n",
       "\t<li>'WhiteString'</li>\n",
       "\t<li>'BlackString'</li>\n",
       "\t<li>'Reading'</li>\n",
       "\t<li>'TV'</li>\n",
       "\t<li>'Pulse'</li>\n",
       "\t<li>'Texting'</li>\n",
       "</ol>\n"
      ],
      "text/latex": [
       "\\begin{enumerate*}\n",
       "\\item 'Section'\n",
       "\\item 'Class'\n",
       "\\item 'Sex'\n",
       "\\item 'Distance'\n",
       "\\item 'Height'\n",
       "\\item 'Handedness'\n",
       "\\item 'Coins'\n",
       "\\item 'WhiteString'\n",
       "\\item 'BlackString'\n",
       "\\item 'Reading'\n",
       "\\item 'TV'\n",
       "\\item 'Pulse'\n",
       "\\item 'Texting'\n",
       "\\end{enumerate*}\n"
      ],
      "text/markdown": [
       "1. 'Section'\n",
       "2. 'Class'\n",
       "3. 'Sex'\n",
       "4. 'Distance'\n",
       "5. 'Height'\n",
       "6. 'Handedness'\n",
       "7. 'Coins'\n",
       "8. 'WhiteString'\n",
       "9. 'BlackString'\n",
       "10. 'Reading'\n",
       "11. 'TV'\n",
       "12. 'Pulse'\n",
       "13. 'Texting'\n",
       "\n",
       "\n"
      ],
      "text/plain": [
       " [1] \"Section\"     \"Class\"       \"Sex\"         \"Distance\"    \"Height\"     \n",
       " [6] \"Handedness\"  \"Coins\"       \"WhiteString\" \"BlackString\" \"Reading\"    \n",
       "[11] \"TV\"          \"Pulse\"       \"Texting\"    "
      ]
     },
     "metadata": {},
     "output_type": "display_data"
    }
   ],
   "source": [
    "names(Data1Survey.df)"
   ]
  },
  {
   "cell_type": "code",
   "execution_count": 7,
   "metadata": {},
   "outputs": [],
   "source": [
    "attach(Data1Survey.df)"
   ]
  },
  {
   "cell_type": "markdown",
   "metadata": {},
   "source": [
    "Get the first row (0 just gets the column names). Of first row get 3, 4 and 6th column. c func === column"
   ]
  },
  {
   "cell_type": "code",
   "execution_count": 16,
   "metadata": {},
   "outputs": [
    {
     "data": {
      "text/html": [
       "<table>\n",
       "<thead><tr><th scope=col>Section</th><th scope=col>Distance</th><th scope=col>Handedness</th></tr></thead>\n",
       "<tbody>\n",
       "\t<tr><td>1    </td><td>400  </td><td>Right</td></tr>\n",
       "</tbody>\n",
       "</table>\n"
      ],
      "text/latex": [
       "\\begin{tabular}{r|lll}\n",
       " Section & Distance & Handedness\\\\\n",
       "\\hline\n",
       "\t 1     & 400   & Right\\\\\n",
       "\\end{tabular}\n"
      ],
      "text/markdown": [
       "\n",
       "Section | Distance | Handedness | \n",
       "|---|\n",
       "| 1     | 400   | Right | \n",
       "\n",
       "\n"
      ],
      "text/plain": [
       "  Section Distance Handedness\n",
       "1 1       400      Right     "
      ]
     },
     "metadata": {},
     "output_type": "display_data"
    }
   ],
   "source": [
    "Data1Survey.df[1, c(1,4,6)]"
   ]
  },
  {
   "cell_type": "markdown",
   "metadata": {},
   "source": [
    "Seems like R indexing starts at 1 :((((("
   ]
  },
  {
   "cell_type": "code",
   "execution_count": 17,
   "metadata": {},
   "outputs": [
    {
     "data": {
      "text/html": [
       "<table>\n",
       "<thead><tr><th scope=col>Distance</th><th scope=col>Handedness</th></tr></thead>\n",
       "<tbody>\n",
       "\t<tr><td>400  </td><td>Right</td></tr>\n",
       "</tbody>\n",
       "</table>\n"
      ],
      "text/latex": [
       "\\begin{tabular}{r|ll}\n",
       " Distance & Handedness\\\\\n",
       "\\hline\n",
       "\t 400   & Right\\\\\n",
       "\\end{tabular}\n"
      ],
      "text/markdown": [
       "\n",
       "Distance | Handedness | \n",
       "|---|\n",
       "| 400   | Right | \n",
       "\n",
       "\n"
      ],
      "text/plain": [
       "  Distance Handedness\n",
       "1 400      Right     "
      ]
     },
     "metadata": {},
     "output_type": "display_data"
    }
   ],
   "source": [
    "Data1Survey.df[1, c(0,4,6)]"
   ]
  },
  {
   "cell_type": "code",
   "execution_count": 18,
   "metadata": {},
   "outputs": [
    {
     "data": {
      "text/html": [
       "<table>\n",
       "<thead><tr><th scope=col>Section</th><th scope=col>Distance</th><th scope=col>Handedness</th></tr></thead>\n",
       "<tbody>\n",
       "\t<tr><td>1    </td><td>400  </td><td>Right</td></tr>\n",
       "</tbody>\n",
       "</table>\n"
      ],
      "text/latex": [
       "\\begin{tabular}{r|lll}\n",
       " Section & Distance & Handedness\\\\\n",
       "\\hline\n",
       "\t 1     & 400   & Right\\\\\n",
       "\\end{tabular}\n"
      ],
      "text/markdown": [
       "\n",
       "Section | Distance | Handedness | \n",
       "|---|\n",
       "| 1     | 400   | Right | \n",
       "\n",
       "\n"
      ],
      "text/plain": [
       "  Section Distance Handedness\n",
       "1 1       400      Right     "
      ]
     },
     "metadata": {},
     "output_type": "display_data"
    }
   ],
   "source": [
    "Data1Survey.df[1, c(1,4,6)]"
   ]
  },
  {
   "cell_type": "code",
   "execution_count": 19,
   "metadata": {},
   "outputs": [
    {
     "data": {
      "text/html": [
       "<table>\n",
       "<thead><tr><th scope=col>Section</th><th scope=col>Class</th><th scope=col>Sex</th><th scope=col>Distance</th><th scope=col>Height</th><th scope=col>Handedness</th><th scope=col>Coins</th><th scope=col>WhiteString</th><th scope=col>BlackString</th><th scope=col>Reading</th><th scope=col>TV</th><th scope=col>Pulse</th><th scope=col>Texting</th></tr></thead>\n",
       "<tbody>\n",
       "\t<tr><td>1       </td><td>Senior  </td><td>F       </td><td> 400    </td><td>62      </td><td>Right   </td><td> 1.12   </td><td>42      </td><td>6       </td><td> 80     </td><td> 3      </td><td>71      </td><td>  3     </td></tr>\n",
       "\t<tr><td>1       </td><td>*       </td><td>F       </td><td> 450    </td><td>61      </td><td>Left    </td><td>29.00   </td><td>45      </td><td>5       </td><td>100     </td><td>10      </td><td>78      </td><td>100     </td></tr>\n",
       "\t<tr><td>1       </td><td>Freshman</td><td>F       </td><td>3000    </td><td>61      </td><td>Right   </td><td> 1.50   </td><td>22      </td><td>4       </td><td>100     </td><td> 4      </td><td>80      </td><td>  2     </td></tr>\n",
       "\t<tr><td>1       </td><td>Freshman</td><td>M       </td><td> 100    </td><td>72      </td><td>Right   </td><td> 0.07   </td><td>40      </td><td>4       </td><td> 50     </td><td>25      </td><td>63      </td><td>200     </td></tr>\n",
       "\t<tr><td>1       </td><td>N/A     </td><td>F       </td><td>2000    </td><td>69      </td><td>Right   </td><td> 0.12   </td><td>48      </td><td>7       </td><td>200     </td><td> 5      </td><td>63      </td><td>100     </td></tr>\n",
       "\t<tr><td>1       </td><td>Senior  </td><td>M       </td><td> 500    </td><td>73      </td><td>Right   </td><td> 8.00   </td><td>30      </td><td>8       </td><td>100     </td><td> 0      </td><td>56      </td><td>  1     </td></tr>\n",
       "</tbody>\n",
       "</table>\n"
      ],
      "text/latex": [
       "\\begin{tabular}{r|lllllllllllll}\n",
       " Section & Class & Sex & Distance & Height & Handedness & Coins & WhiteString & BlackString & Reading & TV & Pulse & Texting\\\\\n",
       "\\hline\n",
       "\t 1        & Senior   & F        &  400     & 62       & Right    &  1.12    & 42       & 6        &  80      &  3       & 71       &   3     \\\\\n",
       "\t 1        & *        & F        &  450     & 61       & Left     & 29.00    & 45       & 5        & 100      & 10       & 78       & 100     \\\\\n",
       "\t 1        & Freshman & F        & 3000     & 61       & Right    &  1.50    & 22       & 4        & 100      &  4       & 80       &   2     \\\\\n",
       "\t 1        & Freshman & M        &  100     & 72       & Right    &  0.07    & 40       & 4        &  50      & 25       & 63       & 200     \\\\\n",
       "\t 1        & N/A      & F        & 2000     & 69       & Right    &  0.12    & 48       & 7        & 200      &  5       & 63       & 100     \\\\\n",
       "\t 1        & Senior   & M        &  500     & 73       & Right    &  8.00    & 30       & 8        & 100      &  0       & 56       &   1     \\\\\n",
       "\\end{tabular}\n"
      ],
      "text/markdown": [
       "\n",
       "Section | Class | Sex | Distance | Height | Handedness | Coins | WhiteString | BlackString | Reading | TV | Pulse | Texting | \n",
       "|---|---|---|---|---|---|\n",
       "| 1        | Senior   | F        |  400     | 62       | Right    |  1.12    | 42       | 6        |  80      |  3       | 71       |   3      | \n",
       "| 1        | *        | F        |  450     | 61       | Left     | 29.00    | 45       | 5        | 100      | 10       | 78       | 100      | \n",
       "| 1        | Freshman | F        | 3000     | 61       | Right    |  1.50    | 22       | 4        | 100      |  4       | 80       |   2      | \n",
       "| 1        | Freshman | M        |  100     | 72       | Right    |  0.07    | 40       | 4        |  50      | 25       | 63       | 200      | \n",
       "| 1        | N/A      | F        | 2000     | 69       | Right    |  0.12    | 48       | 7        | 200      |  5       | 63       | 100      | \n",
       "| 1        | Senior   | M        |  500     | 73       | Right    |  8.00    | 30       | 8        | 100      |  0       | 56       |   1      | \n",
       "\n",
       "\n"
      ],
      "text/plain": [
       "  Section Class    Sex Distance Height Handedness Coins WhiteString BlackString\n",
       "1 1       Senior   F    400     62     Right       1.12 42          6          \n",
       "2 1       *        F    450     61     Left       29.00 45          5          \n",
       "3 1       Freshman F   3000     61     Right       1.50 22          4          \n",
       "4 1       Freshman M    100     72     Right       0.07 40          4          \n",
       "5 1       N/A      F   2000     69     Right       0.12 48          7          \n",
       "6 1       Senior   M    500     73     Right       8.00 30          8          \n",
       "  Reading TV Pulse Texting\n",
       "1  80      3 71      3    \n",
       "2 100     10 78    100    \n",
       "3 100      4 80      2    \n",
       "4  50     25 63    200    \n",
       "5 200      5 63    100    \n",
       "6 100      0 56      1    "
      ]
     },
     "metadata": {},
     "output_type": "display_data"
    }
   ],
   "source": [
    "head(Data1Survey.df)"
   ]
  },
  {
   "cell_type": "markdown",
   "metadata": {},
   "source": [
    "Get values ALL values (i.e. from every row) in the 3rd column"
   ]
  },
  {
   "cell_type": "code",
   "execution_count": 31,
   "metadata": {},
   "outputs": [
    {
     "data": {
      "text/html": [
       "<ol class=list-inline>\n",
       "\t<li>F</li>\n",
       "\t<li>F</li>\n",
       "\t<li>F</li>\n",
       "\t<li>M</li>\n",
       "\t<li>F</li>\n",
       "\t<li>M</li>\n",
       "\t<li>F</li>\n",
       "\t<li>M</li>\n",
       "\t<li>M</li>\n",
       "\t<li>M</li>\n",
       "\t<li>M</li>\n",
       "\t<li>M</li>\n",
       "\t<li>M</li>\n",
       "\t<li>F</li>\n",
       "\t<li>M</li>\n",
       "\t<li>F</li>\n",
       "\t<li>M</li>\n",
       "\t<li>M</li>\n",
       "\t<li>M</li>\n",
       "\t<li>M</li>\n",
       "\t<li>F</li>\n",
       "\t<li>M</li>\n",
       "\t<li>M</li>\n",
       "\t<li>F</li>\n",
       "\t<li>M</li>\n",
       "\t<li>M</li>\n",
       "\t<li>F</li>\n",
       "\t<li>M</li>\n",
       "\t<li>F</li>\n",
       "\t<li>M</li>\n",
       "\t<li>F</li>\n",
       "\t<li>F</li>\n",
       "\t<li>M</li>\n",
       "\t<li>M</li>\n",
       "\t<li>F</li>\n",
       "\t<li>M</li>\n",
       "\t<li>M</li>\n",
       "\t<li>M</li>\n",
       "\t<li>M</li>\n",
       "\t<li>F</li>\n",
       "\t<li>F</li>\n",
       "\t<li>M</li>\n",
       "\t<li>F</li>\n",
       "</ol>\n"
      ],
      "text/latex": [
       "\\begin{enumerate*}\n",
       "\\item F\n",
       "\\item F\n",
       "\\item F\n",
       "\\item M\n",
       "\\item F\n",
       "\\item M\n",
       "\\item F\n",
       "\\item M\n",
       "\\item M\n",
       "\\item M\n",
       "\\item M\n",
       "\\item M\n",
       "\\item M\n",
       "\\item F\n",
       "\\item M\n",
       "\\item F\n",
       "\\item M\n",
       "\\item M\n",
       "\\item M\n",
       "\\item M\n",
       "\\item F\n",
       "\\item M\n",
       "\\item M\n",
       "\\item F\n",
       "\\item M\n",
       "\\item M\n",
       "\\item F\n",
       "\\item M\n",
       "\\item F\n",
       "\\item M\n",
       "\\item F\n",
       "\\item F\n",
       "\\item M\n",
       "\\item M\n",
       "\\item F\n",
       "\\item M\n",
       "\\item M\n",
       "\\item M\n",
       "\\item M\n",
       "\\item F\n",
       "\\item F\n",
       "\\item M\n",
       "\\item F\n",
       "\\end{enumerate*}\n"
      ],
      "text/markdown": [
       "1. F\n",
       "2. F\n",
       "3. F\n",
       "4. M\n",
       "5. F\n",
       "6. M\n",
       "7. F\n",
       "8. M\n",
       "9. M\n",
       "10. M\n",
       "11. M\n",
       "12. M\n",
       "13. M\n",
       "14. F\n",
       "15. M\n",
       "16. F\n",
       "17. M\n",
       "18. M\n",
       "19. M\n",
       "20. M\n",
       "21. F\n",
       "22. M\n",
       "23. M\n",
       "24. F\n",
       "25. M\n",
       "26. M\n",
       "27. F\n",
       "28. M\n",
       "29. F\n",
       "30. M\n",
       "31. F\n",
       "32. F\n",
       "33. M\n",
       "34. M\n",
       "35. F\n",
       "36. M\n",
       "37. M\n",
       "38. M\n",
       "39. M\n",
       "40. F\n",
       "41. F\n",
       "42. M\n",
       "43. F\n",
       "\n",
       "\n"
      ],
      "text/plain": [
       " [1] F F F M F M F M M M M M M F M F M M M M F M M F M M F M F M F F M M F M M M\n",
       "[39] M F F M F\n",
       "Levels: F M"
      ]
     },
     "metadata": {},
     "output_type": "display_data"
    }
   ],
   "source": [
    "# Just thought about it, was supposed to name this Day1Survey.df, not that it matters...\n",
    "Data1Survey.df[,3]"
   ]
  },
  {
   "cell_type": "markdown",
   "metadata": {},
   "source": [
    "R vector/dataframe operations work like Python's pandas library :)"
   ]
  },
  {
   "cell_type": "code",
   "execution_count": 32,
   "metadata": {},
   "outputs": [
    {
     "data": {
      "text/html": [
       "<ol class=list-inline>\n",
       "\t<li>FALSE</li>\n",
       "\t<li>FALSE</li>\n",
       "\t<li>FALSE</li>\n",
       "\t<li>TRUE</li>\n",
       "\t<li>FALSE</li>\n",
       "\t<li>TRUE</li>\n",
       "\t<li>FALSE</li>\n",
       "\t<li>TRUE</li>\n",
       "\t<li>TRUE</li>\n",
       "\t<li>TRUE</li>\n",
       "\t<li>TRUE</li>\n",
       "\t<li>TRUE</li>\n",
       "\t<li>TRUE</li>\n",
       "\t<li>FALSE</li>\n",
       "\t<li>TRUE</li>\n",
       "\t<li>FALSE</li>\n",
       "\t<li>TRUE</li>\n",
       "\t<li>TRUE</li>\n",
       "\t<li>TRUE</li>\n",
       "\t<li>TRUE</li>\n",
       "\t<li>FALSE</li>\n",
       "\t<li>TRUE</li>\n",
       "\t<li>TRUE</li>\n",
       "\t<li>FALSE</li>\n",
       "\t<li>TRUE</li>\n",
       "\t<li>TRUE</li>\n",
       "\t<li>FALSE</li>\n",
       "\t<li>TRUE</li>\n",
       "\t<li>FALSE</li>\n",
       "\t<li>TRUE</li>\n",
       "\t<li>FALSE</li>\n",
       "\t<li>FALSE</li>\n",
       "\t<li>TRUE</li>\n",
       "\t<li>TRUE</li>\n",
       "\t<li>FALSE</li>\n",
       "\t<li>TRUE</li>\n",
       "\t<li>TRUE</li>\n",
       "\t<li>TRUE</li>\n",
       "\t<li>TRUE</li>\n",
       "\t<li>FALSE</li>\n",
       "\t<li>FALSE</li>\n",
       "\t<li>TRUE</li>\n",
       "\t<li>FALSE</li>\n",
       "</ol>\n"
      ],
      "text/latex": [
       "\\begin{enumerate*}\n",
       "\\item FALSE\n",
       "\\item FALSE\n",
       "\\item FALSE\n",
       "\\item TRUE\n",
       "\\item FALSE\n",
       "\\item TRUE\n",
       "\\item FALSE\n",
       "\\item TRUE\n",
       "\\item TRUE\n",
       "\\item TRUE\n",
       "\\item TRUE\n",
       "\\item TRUE\n",
       "\\item TRUE\n",
       "\\item FALSE\n",
       "\\item TRUE\n",
       "\\item FALSE\n",
       "\\item TRUE\n",
       "\\item TRUE\n",
       "\\item TRUE\n",
       "\\item TRUE\n",
       "\\item FALSE\n",
       "\\item TRUE\n",
       "\\item TRUE\n",
       "\\item FALSE\n",
       "\\item TRUE\n",
       "\\item TRUE\n",
       "\\item FALSE\n",
       "\\item TRUE\n",
       "\\item FALSE\n",
       "\\item TRUE\n",
       "\\item FALSE\n",
       "\\item FALSE\n",
       "\\item TRUE\n",
       "\\item TRUE\n",
       "\\item FALSE\n",
       "\\item TRUE\n",
       "\\item TRUE\n",
       "\\item TRUE\n",
       "\\item TRUE\n",
       "\\item FALSE\n",
       "\\item FALSE\n",
       "\\item TRUE\n",
       "\\item FALSE\n",
       "\\end{enumerate*}\n"
      ],
      "text/markdown": [
       "1. FALSE\n",
       "2. FALSE\n",
       "3. FALSE\n",
       "4. TRUE\n",
       "5. FALSE\n",
       "6. TRUE\n",
       "7. FALSE\n",
       "8. TRUE\n",
       "9. TRUE\n",
       "10. TRUE\n",
       "11. TRUE\n",
       "12. TRUE\n",
       "13. TRUE\n",
       "14. FALSE\n",
       "15. TRUE\n",
       "16. FALSE\n",
       "17. TRUE\n",
       "18. TRUE\n",
       "19. TRUE\n",
       "20. TRUE\n",
       "21. FALSE\n",
       "22. TRUE\n",
       "23. TRUE\n",
       "24. FALSE\n",
       "25. TRUE\n",
       "26. TRUE\n",
       "27. FALSE\n",
       "28. TRUE\n",
       "29. FALSE\n",
       "30. TRUE\n",
       "31. FALSE\n",
       "32. FALSE\n",
       "33. TRUE\n",
       "34. TRUE\n",
       "35. FALSE\n",
       "36. TRUE\n",
       "37. TRUE\n",
       "38. TRUE\n",
       "39. TRUE\n",
       "40. FALSE\n",
       "41. FALSE\n",
       "42. TRUE\n",
       "43. FALSE\n",
       "\n",
       "\n"
      ],
      "text/plain": [
       " [1] FALSE FALSE FALSE  TRUE FALSE  TRUE FALSE  TRUE  TRUE  TRUE  TRUE  TRUE\n",
       "[13]  TRUE FALSE  TRUE FALSE  TRUE  TRUE  TRUE  TRUE FALSE  TRUE  TRUE FALSE\n",
       "[25]  TRUE  TRUE FALSE  TRUE FALSE  TRUE FALSE FALSE  TRUE  TRUE FALSE  TRUE\n",
       "[37]  TRUE  TRUE  TRUE FALSE FALSE  TRUE FALSE"
      ]
     },
     "metadata": {},
     "output_type": "display_data"
    }
   ],
   "source": [
    "Sex==\"M\""
   ]
  },
  {
   "cell_type": "markdown",
   "metadata": {},
   "source": [
    "Get each row that is a male"
   ]
  },
  {
   "cell_type": "code",
   "execution_count": 36,
   "metadata": {},
   "outputs": [],
   "source": [
    "males.df <- Data1Survey.df[Sex==\"M\",]"
   ]
  },
  {
   "cell_type": "code",
   "execution_count": 39,
   "metadata": {},
   "outputs": [
    {
     "data": {
      "text/html": [
       "<table>\n",
       "<thead><tr><th></th><th scope=col>Section</th><th scope=col>Class</th><th scope=col>Sex</th><th scope=col>Distance</th><th scope=col>Height</th><th scope=col>Handedness</th><th scope=col>Coins</th><th scope=col>WhiteString</th><th scope=col>BlackString</th><th scope=col>Reading</th><th scope=col>TV</th><th scope=col>Pulse</th><th scope=col>Texting</th></tr></thead>\n",
       "<tbody>\n",
       "\t<tr><th scope=row>4</th><td>1        </td><td>Freshman </td><td>M        </td><td> 100     </td><td>72       </td><td>Right    </td><td> 0.07    </td><td>40       </td><td> 4       </td><td> 50      </td><td>25       </td><td>63       </td><td>200      </td></tr>\n",
       "\t<tr><th scope=row>6</th><td>1        </td><td>Senior   </td><td>M        </td><td> 500     </td><td>73       </td><td>Right    </td><td> 8.00    </td><td>30       </td><td> 8       </td><td>100      </td><td> 0       </td><td>56       </td><td>  1      </td></tr>\n",
       "\t<tr><th scope=row>8</th><td>1        </td><td>Sophomore</td><td>M        </td><td>1000     </td><td>71       </td><td>Right    </td><td> 0.00    </td><td>45       </td><td> 6       </td><td>100      </td><td> 2       </td><td>66       </td><td> 30      </td></tr>\n",
       "\t<tr><th scope=row>9</th><td>1        </td><td>Sophomore</td><td>M        </td><td> 400     </td><td>70       </td><td>Right    </td><td> 0.00    </td><td>38       </td><td> 0       </td><td>100      </td><td>20       </td><td>54       </td><td> 40      </td></tr>\n",
       "\t<tr><th scope=row>10</th><td>1        </td><td>Sophomore</td><td>M        </td><td> 450     </td><td>75       </td><td>Left     </td><td> 0.00    </td><td>36       </td><td>12       </td><td>100      </td><td>20       </td><td>48       </td><td> 25      </td></tr>\n",
       "\t<tr><th scope=row>11</th><td>1        </td><td>Sophomore</td><td>M        </td><td> 400     </td><td>71       </td><td>Right    </td><td>25.00    </td><td>48       </td><td>12       </td><td>250      </td><td> 8       </td><td>81       </td><td> 25      </td></tr>\n",
       "</tbody>\n",
       "</table>\n"
      ],
      "text/latex": [
       "\\begin{tabular}{r|lllllllllllll}\n",
       "  & Section & Class & Sex & Distance & Height & Handedness & Coins & WhiteString & BlackString & Reading & TV & Pulse & Texting\\\\\n",
       "\\hline\n",
       "\t4 & 1         & Freshman  & M         &  100      & 72        & Right     &  0.07     & 40        &  4        &  50       & 25        & 63        & 200      \\\\\n",
       "\t6 & 1         & Senior    & M         &  500      & 73        & Right     &  8.00     & 30        &  8        & 100       &  0        & 56        &   1      \\\\\n",
       "\t8 & 1         & Sophomore & M         & 1000      & 71        & Right     &  0.00     & 45        &  6        & 100       &  2        & 66        &  30      \\\\\n",
       "\t9 & 1         & Sophomore & M         &  400      & 70        & Right     &  0.00     & 38        &  0        & 100       & 20        & 54        &  40      \\\\\n",
       "\t10 & 1         & Sophomore & M         &  450      & 75        & Left      &  0.00     & 36        & 12        & 100       & 20        & 48        &  25      \\\\\n",
       "\t11 & 1         & Sophomore & M         &  400      & 71        & Right     & 25.00     & 48        & 12        & 250       &  8        & 81        &  25      \\\\\n",
       "\\end{tabular}\n"
      ],
      "text/markdown": [
       "\n",
       "| <!--/--> | Section | Class | Sex | Distance | Height | Handedness | Coins | WhiteString | BlackString | Reading | TV | Pulse | Texting | \n",
       "|---|---|---|---|---|---|\n",
       "| 4 | 1         | Freshman  | M         |  100      | 72        | Right     |  0.07     | 40        |  4        |  50       | 25        | 63        | 200       | \n",
       "| 6 | 1         | Senior    | M         |  500      | 73        | Right     |  8.00     | 30        |  8        | 100       |  0        | 56        |   1       | \n",
       "| 8 | 1         | Sophomore | M         | 1000      | 71        | Right     |  0.00     | 45        |  6        | 100       |  2        | 66        |  30       | \n",
       "| 9 | 1         | Sophomore | M         |  400      | 70        | Right     |  0.00     | 38        |  0        | 100       | 20        | 54        |  40       | \n",
       "| 10 | 1         | Sophomore | M         |  450      | 75        | Left      |  0.00     | 36        | 12        | 100       | 20        | 48        |  25       | \n",
       "| 11 | 1         | Sophomore | M         |  400      | 71        | Right     | 25.00     | 48        | 12        | 250       |  8        | 81        |  25       | \n",
       "\n",
       "\n"
      ],
      "text/plain": [
       "   Section Class     Sex Distance Height Handedness Coins WhiteString\n",
       "4  1       Freshman  M    100     72     Right       0.07 40         \n",
       "6  1       Senior    M    500     73     Right       8.00 30         \n",
       "8  1       Sophomore M   1000     71     Right       0.00 45         \n",
       "9  1       Sophomore M    400     70     Right       0.00 38         \n",
       "10 1       Sophomore M    450     75     Left        0.00 36         \n",
       "11 1       Sophomore M    400     71     Right      25.00 48         \n",
       "   BlackString Reading TV Pulse Texting\n",
       "4   4           50     25 63    200    \n",
       "6   8          100      0 56      1    \n",
       "8   6          100      2 66     30    \n",
       "9   0          100     20 54     40    \n",
       "10 12          100     20 48     25    \n",
       "11 12          250      8 81     25    "
      ]
     },
     "metadata": {},
     "output_type": "display_data"
    }
   ],
   "source": [
    "head(males.df) # Notice how every row for Sex is M, this is true for rest of DataFrame as well "
   ]
  },
  {
   "cell_type": "code",
   "execution_count": 40,
   "metadata": {},
   "outputs": [
    {
     "data": {
      "text/html": [
       "<ol class=list-inline>\n",
       "\t<li>26</li>\n",
       "\t<li>13</li>\n",
       "</ol>\n"
      ],
      "text/latex": [
       "\\begin{enumerate*}\n",
       "\\item 26\n",
       "\\item 13\n",
       "\\end{enumerate*}\n"
      ],
      "text/markdown": [
       "1. 26\n",
       "2. 13\n",
       "\n",
       "\n"
      ],
      "text/plain": [
       "[1] 26 13"
      ]
     },
     "metadata": {},
     "output_type": "display_data"
    }
   ],
   "source": [
    "dim(males.df)"
   ]
  },
  {
   "cell_type": "markdown",
   "metadata": {},
   "source": [
    "Get only males who have height >= 72, get only the columns \"Height\" and \"TV\" -> Seems like R selection statements also work like pandas"
   ]
  },
  {
   "cell_type": "code",
   "execution_count": 42,
   "metadata": {},
   "outputs": [],
   "source": [
    "TallTV.males.df <- Data1Survey.df[Sex==\"M\" & Height>=72, c(\"Height\", \"TV\")]"
   ]
  },
  {
   "cell_type": "code",
   "execution_count": 44,
   "metadata": {},
   "outputs": [
    {
     "data": {
      "text/html": [
       "<table>\n",
       "<thead><tr><th></th><th scope=col>Height</th><th scope=col>TV</th></tr></thead>\n",
       "<tbody>\n",
       "\t<tr><th scope=row>4</th><td>72  </td><td>25.0</td></tr>\n",
       "\t<tr><th scope=row>6</th><td>73  </td><td> 0.0</td></tr>\n",
       "\t<tr><th scope=row>10</th><td>75  </td><td>20.0</td></tr>\n",
       "\t<tr><th scope=row>15</th><td>77  </td><td> 4.0</td></tr>\n",
       "\t<tr><th scope=row>18</th><td>73  </td><td> 1.5</td></tr>\n",
       "\t<tr><th scope=row>23</th><td>74  </td><td> 4.0</td></tr>\n",
       "</tbody>\n",
       "</table>\n"
      ],
      "text/latex": [
       "\\begin{tabular}{r|ll}\n",
       "  & Height & TV\\\\\n",
       "\\hline\n",
       "\t4 & 72   & 25.0\\\\\n",
       "\t6 & 73   &  0.0\\\\\n",
       "\t10 & 75   & 20.0\\\\\n",
       "\t15 & 77   &  4.0\\\\\n",
       "\t18 & 73   &  1.5\\\\\n",
       "\t23 & 74   &  4.0\\\\\n",
       "\\end{tabular}\n"
      ],
      "text/markdown": [
       "\n",
       "| <!--/--> | Height | TV | \n",
       "|---|---|---|---|---|---|\n",
       "| 4 | 72   | 25.0 | \n",
       "| 6 | 73   |  0.0 | \n",
       "| 10 | 75   | 20.0 | \n",
       "| 15 | 77   |  4.0 | \n",
       "| 18 | 73   |  1.5 | \n",
       "| 23 | 74   |  4.0 | \n",
       "\n",
       "\n"
      ],
      "text/plain": [
       "   Height TV  \n",
       "4  72     25.0\n",
       "6  73      0.0\n",
       "10 75     20.0\n",
       "15 77      4.0\n",
       "18 73      1.5\n",
       "23 74      4.0"
      ]
     },
     "metadata": {},
     "output_type": "display_data"
    }
   ],
   "source": [
    "head(TallTV.males.df)"
   ]
  },
  {
   "cell_type": "code",
   "execution_count": 45,
   "metadata": {},
   "outputs": [
    {
     "data": {
      "text/html": [
       "2.71828182845905"
      ],
      "text/latex": [
       "2.71828182845905"
      ],
      "text/markdown": [
       "2.71828182845905"
      ],
      "text/plain": [
       "[1] 2.718282"
      ]
     },
     "metadata": {},
     "output_type": "display_data"
    }
   ],
   "source": [
    "exp(1)"
   ]
  },
  {
   "cell_type": "code",
   "execution_count": 46,
   "metadata": {},
   "outputs": [
    {
     "data": {
      "text/html": [
       "4"
      ],
      "text/latex": [
       "4"
      ],
      "text/markdown": [
       "4"
      ],
      "text/plain": [
       "[1] 4"
      ]
     },
     "metadata": {},
     "output_type": "display_data"
    }
   ],
   "source": [
    "log(exp(4))"
   ]
  },
  {
   "cell_type": "code",
   "execution_count": 47,
   "metadata": {},
   "outputs": [
    {
     "data": {
      "text/html": [
       "4.47213595499958"
      ],
      "text/latex": [
       "4.47213595499958"
      ],
      "text/markdown": [
       "4.47213595499958"
      ],
      "text/plain": [
       "[1] 4.472136"
      ]
     },
     "metadata": {},
     "output_type": "display_data"
    }
   ],
   "source": [
    "sqrt(20)"
   ]
  },
  {
   "cell_type": "markdown",
   "metadata": {},
   "source": [
    "Functions YAYYYYYY :)"
   ]
  },
  {
   "cell_type": "code",
   "execution_count": 48,
   "metadata": {},
   "outputs": [],
   "source": [
    "mymean <- function(x, trim=0) {\n",
    "    # Sorts the vector so we can trim outliers\n",
    "    y <- sort(x) \n",
    "    # Add 1 b/c R indexing starts at 1\n",
    "    # trim is meant to trim outliers \n",
    "    # Seems like R vector slicing also works like python\n",
    "    # But does -1 work to get last element?\n",
    "    mean(y[(trim+1):(length(y)-trim)])\n",
    "}"
   ]
  },
  {
   "cell_type": "code",
   "execution_count": 49,
   "metadata": {},
   "outputs": [
    {
     "data": {
      "text/html": [
       "4"
      ],
      "text/latex": [
       "4"
      ],
      "text/markdown": [
       "4"
      ],
      "text/plain": [
       "[1] 4"
      ]
     },
     "metadata": {},
     "output_type": "display_data"
    }
   ],
   "source": [
    "vec <- c(1,2,3,4,5,6,20)\n",
    "mymean(vec, trim=1)"
   ]
  },
  {
   "cell_type": "code",
   "execution_count": 55,
   "metadata": {},
   "outputs": [
    {
     "name": "stdout",
     "output_type": "stream",
     "text": [
      "[1]  1  2  3  4  5  6 20\n",
      "[1]  2  3  4  5  6 20\n",
      "[1]  1  3  4  5  6 20\n"
     ]
    }
   ],
   "source": [
    "# Seems like this doesn't work like python :(\n",
    "# Using negative indices removes the element at the positive version of the index\n",
    "print(vec)\n",
    "print(vec[-1])\n",
    "print(vec[-2])"
   ]
  },
  {
   "cell_type": "code",
   "execution_count": 57,
   "metadata": {},
   "outputs": [
    {
     "data": {
      "text/html": [
       "5.85714285714286"
      ],
      "text/latex": [
       "5.85714285714286"
      ],
      "text/markdown": [
       "5.85714285714286"
      ],
      "text/plain": [
       "[1] 5.857143"
      ]
     },
     "metadata": {},
     "output_type": "display_data"
    }
   ],
   "source": [
    "mymean(vec) # We don't have to pass for default parameter vals"
   ]
  },
  {
   "cell_type": "code",
   "execution_count": null,
   "metadata": {},
   "outputs": [],
   "source": []
  }
 ],
 "metadata": {
  "Rmd_header": {
   "author": "Daniel Evans",
   "date": "January 21, 2018",
   "output": "html_document",
   "title": "Chapter_-1"
  },
  "kernelspec": {
   "display_name": "R",
   "language": "R",
   "name": "ir"
  },
  "language_info": {
   "codemirror_mode": "r",
   "file_extension": ".r",
   "mimetype": "text/x-r-source",
   "name": "R",
   "pygments_lexer": "r",
   "version": "3.4.3"
  },
  "toc": {
   "nav_menu": {},
   "number_sections": true,
   "sideBar": false,
   "skip_h1_title": false,
   "toc_cell": true,
   "toc_position": {},
   "toc_section_display": "block",
   "toc_window_display": false
  }
 },
 "nbformat": 4,
 "nbformat_minor": 1
}
