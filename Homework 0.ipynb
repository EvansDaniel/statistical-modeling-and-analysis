{
 "cells": [
  {
   "cell_type": "markdown",
   "metadata": {
    "toc": true
   },
   "source": [
    "<h1>Table of Contents<span class=\"tocSkip\"></span></h1>\n",
    "<div class=\"toc\" style=\"margin-top: 1em;\"><ul class=\"toc-item\"><li><span><a href=\"#Homework-0\" data-toc-modified-id=\"Homework-0-1\"><span class=\"toc-item-num\">1&nbsp;&nbsp;</span>Homework 0</a></span><ul class=\"toc-item\"><li><span><a href=\"#0.3\" data-toc-modified-id=\"0.3-1.1\"><span class=\"toc-item-num\">1.1&nbsp;&nbsp;</span>0.3</a></span></li><li><span><a href=\"#0.7\" data-toc-modified-id=\"0.7-1.2\"><span class=\"toc-item-num\">1.2&nbsp;&nbsp;</span>0.7</a></span></li><li><span><a href=\"#.17\" data-toc-modified-id=\".17-1.3\"><span class=\"toc-item-num\">1.3&nbsp;&nbsp;</span>.17</a></span></li><li><span><a href=\"#.18\" data-toc-modified-id=\".18-1.4\"><span class=\"toc-item-num\">1.4&nbsp;&nbsp;</span>.18</a></span></li></ul></li></ul></div>"
   ]
  },
  {
   "cell_type": "markdown",
   "metadata": {},
   "source": [
    "# Homework 0"
   ]
  },
  {
   "cell_type": "markdown",
   "metadata": {},
   "source": [
    "## 0.3\n",
    "(Q) = Quantitative, (C) = Categorical \n",
    "a. \n",
    "Observational Units:\n",
    "Baseball games\n",
    "\n",
    "Response Variable: \n",
    "Time required to play a Major League Baseball game (Q).\n",
    "\n",
    "Explanatory Variable:\n",
    "total number of runs scored (Q), margin of victory (Q), total number of pitchers used (Q), ballpark attendance (Q), which league the teams were in (C). \n",
    "\n",
    "b. \n",
    "Observational Units:\n",
    "A putt\n",
    "\n",
    "Response Variable: \n",
    "The liklihood of making a putt\n",
    "\n",
    "Explanatory Variable:\n",
    "length of putt (Q)\n",
    "\n",
    "c. \n",
    "Observational Units:\n",
    "LaDainian Tomlinson\n",
    "\n",
    "Response Variable: \n",
    "No response variable\n",
    "\n",
    "Explanatory Variable:\n",
    "No explanatory variables"
   ]
  },
  {
   "cell_type": "markdown",
   "metadata": {},
   "source": [
    "## 0.4\n",
    "\n",
    "a. \n",
    "Observational Units:\n",
    "Volleyball player \n",
    "\n",
    "Response Variable: \n",
    "The liklihood of winning a point (C) \n",
    "\n",
    "Explanatory Variable:\n",
    "Type of serve (C)\n",
    "\n",
    "\n",
    "b. \n",
    "Observational Units:\n",
    "Sport games \n",
    "\n",
    "Response Variable: \n",
    "Home field advantage effect (C)\n",
    "\n",
    "Explanatory Variable:\n",
    "Major team sports (C)\n",
    "\n",
    "\n",
    "c. \n",
    "Observational Units:\n",
    "Individual golfers \n",
    "\n",
    "Response Variable: \n",
    "Distance the golf ball is driven (Q) and the percentage that hits the fairway (Q)\n",
    "\n",
    "Explanatory Variable:\n",
    "Sex of the golfer (C) \n"
   ]
  },
  {
   "cell_type": "markdown",
   "metadata": {},
   "source": [
    "## 0.7\n",
    "\n",
    "a. What is the population of interest to the registrar at this college? \n",
    "All members of the entering class to the college.\n",
    "\n",
    "b. Are the descriptive summaries computee by the registrar statistics or parameters? Explain.\n",
    "Parameters because they computed the summaries using all members of the entering class i.e. the entire population\n",
    "\n",
    "c. What is the population of interest to the Math department? \n",
    "Students in the entering class who want to take mathematics\n",
    "\n",
    "d. Are the numerical summaries statistics or parameters? Explain. \n",
    "Statistics because the math department takes a sample to compute them; they do not use the entire population."
   ]
  },
  {
   "cell_type": "markdown",
   "metadata": {},
   "source": [
    "## .17"
   ]
  },
  {
   "cell_type": "code",
   "execution_count": 3,
   "metadata": {},
   "outputs": [
    {
     "data": {
      "text/html": [
       "<table>\n",
       "<thead><tr><th scope=col>Date</th><th scope=col>Miles</th><th scope=col>Time</th><th scope=col>Pace</th><th scope=col>ShoeBrand</th><th scope=col>TimeMin</th><th scope=col>PaceMin</th><th scope=col>Short</th><th scope=col>After2004</th></tr></thead>\n",
       "<tbody>\n",
       "\t<tr><td>1/1/2002</td><td>5.0     </td><td>38:31:00</td><td>7:42:12 </td><td>        </td><td>38.517  </td><td>7.703   </td><td>1       </td><td>0       </td></tr>\n",
       "\t<tr><td>1/3/2002</td><td>5.0     </td><td>41:05:00</td><td>8:13:00 </td><td>        </td><td>41.083  </td><td>8.217   </td><td>1       </td><td>0       </td></tr>\n",
       "\t<tr><td>1/5/2002</td><td>4.0     </td><td>31:21:00</td><td>7:50:15 </td><td>        </td><td>31.350  </td><td>7.838   </td><td>1       </td><td>0       </td></tr>\n",
       "\t<tr><td>1/6/2002</td><td>6.0     </td><td>53:52:00</td><td>8:58:40 </td><td>        </td><td>53.867  </td><td>8.978   </td><td>0       </td><td>0       </td></tr>\n",
       "\t<tr><td>1/8/2002</td><td>4.5     </td><td>40:19:00</td><td>8:57:33 </td><td>        </td><td>40.317  </td><td>8.959   </td><td>1       </td><td>0       </td></tr>\n",
       "\t<tr><td>1/9/2002</td><td>5.0     </td><td>39:51:00</td><td>7:58:12 </td><td>        </td><td>39.850  </td><td>7.970   </td><td>1       </td><td>0       </td></tr>\n",
       "</tbody>\n",
       "</table>\n"
      ],
      "text/latex": [
       "\\begin{tabular}{r|lllllllll}\n",
       " Date & Miles & Time & Pace & ShoeBrand & TimeMin & PaceMin & Short & After2004\\\\\n",
       "\\hline\n",
       "\t 1/1/2002 & 5.0      & 38:31:00 & 7:42:12  &          & 38.517   & 7.703    & 1        & 0       \\\\\n",
       "\t 1/3/2002 & 5.0      & 41:05:00 & 8:13:00  &          & 41.083   & 8.217    & 1        & 0       \\\\\n",
       "\t 1/5/2002 & 4.0      & 31:21:00 & 7:50:15  &          & 31.350   & 7.838    & 1        & 0       \\\\\n",
       "\t 1/6/2002 & 6.0      & 53:52:00 & 8:58:40  &          & 53.867   & 8.978    & 0        & 0       \\\\\n",
       "\t 1/8/2002 & 4.5      & 40:19:00 & 8:57:33  &          & 40.317   & 8.959    & 1        & 0       \\\\\n",
       "\t 1/9/2002 & 5.0      & 39:51:00 & 7:58:12  &          & 39.850   & 7.970    & 1        & 0       \\\\\n",
       "\\end{tabular}\n"
      ],
      "text/markdown": [
       "\n",
       "Date | Miles | Time | Pace | ShoeBrand | TimeMin | PaceMin | Short | After2004 | \n",
       "|---|---|---|---|---|---|\n",
       "| 1/1/2002 | 5.0      | 38:31:00 | 7:42:12  |          | 38.517   | 7.703    | 1        | 0        | \n",
       "| 1/3/2002 | 5.0      | 41:05:00 | 8:13:00  |          | 41.083   | 8.217    | 1        | 0        | \n",
       "| 1/5/2002 | 4.0      | 31:21:00 | 7:50:15  |          | 31.350   | 7.838    | 1        | 0        | \n",
       "| 1/6/2002 | 6.0      | 53:52:00 | 8:58:40  |          | 53.867   | 8.978    | 0        | 0        | \n",
       "| 1/8/2002 | 4.5      | 40:19:00 | 8:57:33  |          | 40.317   | 8.959    | 1        | 0        | \n",
       "| 1/9/2002 | 5.0      | 39:51:00 | 7:58:12  |          | 39.850   | 7.970    | 1        | 0        | \n",
       "\n",
       "\n"
      ],
      "text/plain": [
       "  Date     Miles Time     Pace    ShoeBrand TimeMin PaceMin Short After2004\n",
       "1 1/1/2002 5.0   38:31:00 7:42:12           38.517  7.703   1     0        \n",
       "2 1/3/2002 5.0   41:05:00 8:13:00           41.083  8.217   1     0        \n",
       "3 1/5/2002 4.0   31:21:00 7:50:15           31.350  7.838   1     0        \n",
       "4 1/6/2002 6.0   53:52:00 8:58:40           53.867  8.978   0     0        \n",
       "5 1/8/2002 4.5   40:19:00 8:57:33           40.317  8.959   1     0        \n",
       "6 1/9/2002 5.0   39:51:00 7:58:12           39.850  7.970   1     0        "
      ]
     },
     "metadata": {},
     "output_type": "display_data"
    }
   ],
   "source": [
    "library(Stat2Data)\n",
    "data(Marathon)\n",
    "head(Marathon)"
   ]
  },
  {
   "cell_type": "markdown",
   "metadata": {},
   "source": [
    "Define competing models and associated hypothesis"
   ]
  },
  {
   "cell_type": "markdown",
   "metadata": {},
   "source": [
    "$\\mu_s$ = The average time on short runs<br>\n",
    "$\\mu_l$ = The average time on long runs\n",
    "\n",
    "Null Hypothesis: $\\mu_s = \\mu_l$ \n",
    "<br>\n",
    "Alternative Hypothesis: $\\mu_s \\neq \\mu_l$"
   ]
  },
  {
   "cell_type": "markdown",
   "metadata": {},
   "source": [
    "Find p-value for the hypothesis you defined above as well as the 95% confidence interval"
   ]
  },
  {
   "cell_type": "code",
   "execution_count": 9,
   "metadata": {},
   "outputs": [
    {
     "data": {
      "text/plain": [
       "\n",
       "\tWelch Two Sample t-test\n",
       "\n",
       "data:  Marathon$PaceMin by Marathon$Short\n",
       "t = 6.6991, df = 962.52, p-value = 3.563e-11\n",
       "alternative hypothesis: true difference in means is not equal to 0\n",
       "95 percent confidence interval:\n",
       " 0.1389206 0.2540322\n",
       "sample estimates:\n",
       "mean in group 0 mean in group 1 \n",
       "       8.157665        7.961188 \n"
      ]
     },
     "metadata": {},
     "output_type": "display_data"
    }
   ],
   "source": [
    "# Following what was done for WeightLossIncetive4\n",
    "t.test(Marathon$PaceMin ~ Marathon$Short)"
   ]
  },
  {
   "cell_type": "markdown",
   "metadata": {},
   "source": [
    "Interpret p-value and the 95% condifience interval. in regards to the research question."
   ]
  },
  {
   "cell_type": "markdown",
   "metadata": {},
   "source": [
    "Given that the p-value is sufficiently small (the t-statistic is well outside the 95% confidence interval), \n",
    "we can safely reject the null hypothesis. This means that it is highly unlikely that the results were do to \n",
    "chance, and it is much more likely that there is a real difference in the average run times per mile for the runner. With that said and the fact that the runner runs faster per mile when the distance of the run is shorter, we can infer that the runner will in general run faster per mile in this case. "
   ]
  },
  {
   "cell_type": "markdown",
   "metadata": {},
   "source": []
  },
  {
   "cell_type": "markdown",
   "metadata": {},
   "source": []
  },
  {
   "cell_type": "code",
   "execution_count": null,
   "metadata": {},
   "outputs": [],
   "source": []
  },
  {
   "cell_type": "markdown",
   "metadata": {},
   "source": [
    "## .18"
   ]
  },
  {
   "cell_type": "code",
   "execution_count": null,
   "metadata": {},
   "outputs": [],
   "source": []
  }
 ],
 "metadata": {
  "kernelspec": {
   "display_name": "R",
   "language": "R",
   "name": "ir"
  },
  "language_info": {
   "codemirror_mode": "r",
   "file_extension": ".r",
   "mimetype": "text/x-r-source",
   "name": "R",
   "pygments_lexer": "r",
   "version": "3.4.3"
  },
  "toc": {
   "nav_menu": {},
   "number_sections": true,
   "sideBar": false,
   "skip_h1_title": false,
   "toc_cell": true,
   "toc_position": {},
   "toc_section_display": "block",
   "toc_window_display": false
  }
 },
 "nbformat": 4,
 "nbformat_minor": 2
}
